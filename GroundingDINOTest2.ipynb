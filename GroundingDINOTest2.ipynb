{
 "cells": [
  {
   "cell_type": "code",
   "execution_count": 14,
   "metadata": {},
   "outputs": [
    {
     "name": "stdout",
     "output_type": "stream",
     "text": [
      "Wed Sep 13 10:39:26 2023       \n",
      "+-----------------------------------------------------------------------------+\n",
      "| NVIDIA-SMI 528.24       Driver Version: 528.24       CUDA Version: 12.0     |\n",
      "|-------------------------------+----------------------+----------------------+\n",
      "| GPU  Name            TCC/WDDM | Bus-Id        Disp.A | Volatile Uncorr. ECC |\n",
      "| Fan  Temp  Perf  Pwr:Usage/Cap|         Memory-Usage | GPU-Util  Compute M. |\n",
      "|                               |                      |               MIG M. |\n",
      "|===============================+======================+======================|\n",
      "|   0  NVIDIA GeForce ... WDDM  | 00000000:01:00.0  On |                  Off |\n",
      "| 30%   29C    P8    12W / 450W |    594MiB / 24564MiB |      1%      Default |\n",
      "|                               |                      |                  N/A |\n",
      "+-------------------------------+----------------------+----------------------+\n",
      "                                                                               \n",
      "+-----------------------------------------------------------------------------+\n",
      "| Processes:                                                                  |\n",
      "|  GPU   GI   CI        PID   Type   Process name                  GPU Memory |\n",
      "|        ID   ID                                                   Usage      |\n",
      "|=============================================================================|\n",
      "|    0   N/A  N/A       452    C+G   ...lPanel\\SystemSettings.exe    N/A      |\n",
      "|    0   N/A  N/A      2268    C+G   ...938.76\\msedgewebview2.exe    N/A      |\n",
      "|    0   N/A  N/A      4436    C+G   ...icrosoft VS Code\\Code.exe    N/A      |\n",
      "|    0   N/A  N/A      7236    C+G   C:\\Windows\\explorer.exe         N/A      |\n",
      "|    0   N/A  N/A      8384    C+G   ...n1h2txyewy\\SearchHost.exe    N/A      |\n",
      "|    0   N/A  N/A      8416    C+G   ...artMenuExperienceHost.exe    N/A      |\n",
      "|    0   N/A  N/A      9080    C+G   ...0.0.1.0\\GoogleDriveFS.exe    N/A      |\n",
      "|    0   N/A  N/A      9908    C+G   ...cw5n1h2txyewy\\LockApp.exe    N/A      |\n",
      "|    0   N/A  N/A     11156    C+G   ...oft\\OneDrive\\OneDrive.exe    N/A      |\n",
      "|    0   N/A  N/A     11964    C+G   ...me\\Application\\chrome.exe    N/A      |\n",
      "|    0   N/A  N/A     13672    C+G   ...938.76\\msedgewebview2.exe    N/A      |\n",
      "|    0   N/A  N/A     14360    C+G   ...2txyewy\\TextInputHost.exe    N/A      |\n",
      "|    0   N/A  N/A     14984    C+G   ...ge\\Application\\msedge.exe    N/A      |\n",
      "|    0   N/A  N/A     17848    C+G   ...y\\ShellExperienceHost.exe    N/A      |\n",
      "+-----------------------------------------------------------------------------+\n"
     ]
    }
   ],
   "source": [
    "!nvidia-smi"
   ]
  },
  {
   "cell_type": "code",
   "execution_count": 3,
   "metadata": {},
   "outputs": [
    {
     "name": "stdout",
     "output_type": "stream",
     "text": [
      "True\n",
      "0\n",
      "NVIDIA GeForce RTX 4090\n",
      "11.8\n"
     ]
    }
   ],
   "source": [
    "import torch\n",
    "\n",
    "print(torch.cuda.is_available())\n",
    "print(torch.cuda.current_device())\n",
    "print(torch.cuda.get_device_name(0))\n",
    "print(torch.version.cuda)"
   ]
  },
  {
   "cell_type": "code",
   "execution_count": 4,
   "metadata": {},
   "outputs": [
    {
     "name": "stdout",
     "output_type": "stream",
     "text": [
      "C:\\Program Files\\NVIDIA GPU Computing Toolkit\\CUDA\\v11.8\n"
     ]
    }
   ],
   "source": [
    "echo %CUDA_HOME%"
   ]
  },
  {
   "cell_type": "code",
   "execution_count": 8,
   "metadata": {},
   "outputs": [
    {
     "name": "stdout",
     "output_type": "stream",
     "text": [
      "C:\\Program Files\\NVIDIA GPU Computing Toolkit\\CUDA\\v11.8\n"
     ]
    }
   ],
   "source": [
    "CUDA_HOME=\"C:\\\\Program Files\\\\NVIDIA GPU Computing Toolkit\\\\CUDA\\\\v11.8\"\n",
    "print (CUDA_HOME)"
   ]
  },
  {
   "cell_type": "code",
   "execution_count": 9,
   "metadata": {},
   "outputs": [
    {
     "name": "stdout",
     "output_type": "stream",
     "text": [
      "c:\\Users\\mhajj\\Documents\\RUTILEA\\mhajjaj\n"
     ]
    }
   ],
   "source": [
    "import os\n",
    "HOME = os.getcwd()\n",
    "print(HOME)"
   ]
  },
  {
   "cell_type": "code",
   "execution_count": 10,
   "metadata": {},
   "outputs": [
    {
     "name": "stdout",
     "output_type": "stream",
     "text": [
      "c:\\Users\\mhajj\\Documents\\RUTILEA\\mhajjaj\n",
      "c:\\Users\\mhajj\\Documents\\RUTILEA\\mhajjaj\\GroundingDINO\n"
     ]
    },
    {
     "name": "stderr",
     "output_type": "stream",
     "text": [
      "Cloning into 'GroundingDINO'...\n"
     ]
    }
   ],
   "source": [
    "%cd {HOME}\n",
    "!git clone https://github.com/IDEA-Research/GroundingDINO.git"
   ]
  },
  {
   "cell_type": "code",
   "execution_count": 12,
   "metadata": {},
   "outputs": [
    {
     "name": "stdout",
     "output_type": "stream",
     "text": [
      "c:\\Users\\mhajj\\Documents\\RUTILEA\\mhajjaj\\GroundingDINO\n"
     ]
    }
   ],
   "source": [
    "%cd {HOME}/GroundingDINO"
   ]
  },
  {
   "cell_type": "code",
   "execution_count": 13,
   "metadata": {},
   "outputs": [
    {
     "name": "stdout",
     "output_type": "stream",
     "text": [
      "Obtaining file:///C:/Users/mhajj/Documents/RUTILEA/mhajjaj/GroundingDINO\n",
      "  Preparing metadata (setup.py): started\n",
      "  Preparing metadata (setup.py): finished with status 'done'\n",
      "Requirement already satisfied: torch in c:\\users\\mhajj\\documents\\rutilea\\rutilea_env\\lib\\site-packages (from groundingdino==0.1.0) (2.0.1+cu118)\n",
      "Requirement already satisfied: torchvision in c:\\users\\mhajj\\documents\\rutilea\\rutilea_env\\lib\\site-packages (from groundingdino==0.1.0) (0.15.2+cu118)\n",
      "Requirement already satisfied: transformers in c:\\users\\mhajj\\documents\\rutilea\\rutilea_env\\lib\\site-packages (from groundingdino==0.1.0) (4.33.1)\n",
      "Requirement already satisfied: addict in c:\\users\\mhajj\\documents\\rutilea\\rutilea_env\\lib\\site-packages (from groundingdino==0.1.0) (2.4.0)\n",
      "Requirement already satisfied: yapf in c:\\users\\mhajj\\documents\\rutilea\\rutilea_env\\lib\\site-packages (from groundingdino==0.1.0) (0.40.1)\n",
      "Requirement already satisfied: timm in c:\\users\\mhajj\\documents\\rutilea\\rutilea_env\\lib\\site-packages (from groundingdino==0.1.0) (0.9.7)\n",
      "Requirement already satisfied: numpy in c:\\users\\mhajj\\documents\\rutilea\\rutilea_env\\lib\\site-packages (from groundingdino==0.1.0) (1.23.0)\n",
      "Requirement already satisfied: opencv-python in c:\\users\\mhajj\\documents\\rutilea\\rutilea_env\\lib\\site-packages (from groundingdino==0.1.0) (4.8.0.76)\n",
      "Collecting supervision==0.6.0 (from groundingdino==0.1.0)\n",
      "  Using cached supervision-0.6.0-py3-none-any.whl (31 kB)\n",
      "Requirement already satisfied: pycocotools in c:\\users\\mhajj\\documents\\rutilea\\rutilea_env\\lib\\site-packages (from groundingdino==0.1.0) (2.0.6)\n",
      "Requirement already satisfied: matplotlib in c:\\users\\mhajj\\documents\\rutilea\\rutilea_env\\lib\\site-packages (from supervision==0.6.0->groundingdino==0.1.0) (3.7.2)\n",
      "Requirement already satisfied: pyyaml in c:\\users\\mhajj\\documents\\rutilea\\rutilea_env\\lib\\site-packages (from timm->groundingdino==0.1.0) (6.0.1)\n",
      "Requirement already satisfied: huggingface-hub in c:\\users\\mhajj\\documents\\rutilea\\rutilea_env\\lib\\site-packages (from timm->groundingdino==0.1.0) (0.17.1)\n",
      "Requirement already satisfied: safetensors in c:\\users\\mhajj\\documents\\rutilea\\rutilea_env\\lib\\site-packages (from timm->groundingdino==0.1.0) (0.3.3)\n",
      "Requirement already satisfied: filelock in c:\\users\\mhajj\\documents\\rutilea\\rutilea_env\\lib\\site-packages (from torch->groundingdino==0.1.0) (3.9.0)\n",
      "Requirement already satisfied: typing-extensions in c:\\users\\mhajj\\documents\\rutilea\\rutilea_env\\lib\\site-packages (from torch->groundingdino==0.1.0) (4.4.0)\n",
      "Requirement already satisfied: sympy in c:\\users\\mhajj\\documents\\rutilea\\rutilea_env\\lib\\site-packages (from torch->groundingdino==0.1.0) (1.11.1)\n",
      "Requirement already satisfied: networkx in c:\\users\\mhajj\\documents\\rutilea\\rutilea_env\\lib\\site-packages (from torch->groundingdino==0.1.0) (3.0)\n",
      "Requirement already satisfied: jinja2 in c:\\users\\mhajj\\documents\\rutilea\\rutilea_env\\lib\\site-packages (from torch->groundingdino==0.1.0) (3.1.2)\n",
      "Requirement already satisfied: requests in c:\\users\\mhajj\\documents\\rutilea\\rutilea_env\\lib\\site-packages (from torchvision->groundingdino==0.1.0) (2.28.1)\n",
      "Requirement already satisfied: pillow!=8.3.*,>=5.3.0 in c:\\users\\mhajj\\documents\\rutilea\\rutilea_env\\lib\\site-packages (from torchvision->groundingdino==0.1.0) (9.5.0)\n",
      "Requirement already satisfied: packaging>=20.0 in c:\\users\\mhajj\\documents\\rutilea\\rutilea_env\\lib\\site-packages (from transformers->groundingdino==0.1.0) (23.1)\n",
      "Requirement already satisfied: regex!=2019.12.17 in c:\\users\\mhajj\\documents\\rutilea\\rutilea_env\\lib\\site-packages (from transformers->groundingdino==0.1.0) (2023.8.8)\n",
      "Requirement already satisfied: tokenizers!=0.11.3,<0.14,>=0.11.1 in c:\\users\\mhajj\\documents\\rutilea\\rutilea_env\\lib\\site-packages (from transformers->groundingdino==0.1.0) (0.13.3)\n",
      "Requirement already satisfied: tqdm>=4.27 in c:\\users\\mhajj\\documents\\rutilea\\rutilea_env\\lib\\site-packages (from transformers->groundingdino==0.1.0) (4.66.1)\n",
      "Requirement already satisfied: importlib-metadata>=6.6.0 in c:\\users\\mhajj\\documents\\rutilea\\rutilea_env\\lib\\site-packages (from yapf->groundingdino==0.1.0) (6.8.0)\n",
      "Requirement already satisfied: platformdirs>=3.5.1 in c:\\users\\mhajj\\documents\\rutilea\\rutilea_env\\lib\\site-packages (from yapf->groundingdino==0.1.0) (3.10.0)\n",
      "Requirement already satisfied: tomli>=2.0.1 in c:\\users\\mhajj\\documents\\rutilea\\rutilea_env\\lib\\site-packages (from yapf->groundingdino==0.1.0) (2.0.1)\n",
      "Requirement already satisfied: fsspec in c:\\users\\mhajj\\documents\\rutilea\\rutilea_env\\lib\\site-packages (from huggingface-hub->timm->groundingdino==0.1.0) (2023.9.0)\n",
      "Requirement already satisfied: zipp>=0.5 in c:\\users\\mhajj\\documents\\rutilea\\rutilea_env\\lib\\site-packages (from importlib-metadata>=6.6.0->yapf->groundingdino==0.1.0) (3.16.2)\n",
      "Requirement already satisfied: contourpy>=1.0.1 in c:\\users\\mhajj\\documents\\rutilea\\rutilea_env\\lib\\site-packages (from matplotlib->supervision==0.6.0->groundingdino==0.1.0) (1.1.0)\n",
      "Requirement already satisfied: cycler>=0.10 in c:\\users\\mhajj\\documents\\rutilea\\rutilea_env\\lib\\site-packages (from matplotlib->supervision==0.6.0->groundingdino==0.1.0) (0.10.0)\n",
      "Requirement already satisfied: fonttools>=4.22.0 in c:\\users\\mhajj\\documents\\rutilea\\rutilea_env\\lib\\site-packages (from matplotlib->supervision==0.6.0->groundingdino==0.1.0) (4.42.1)\n",
      "Requirement already satisfied: kiwisolver>=1.0.1 in c:\\users\\mhajj\\documents\\rutilea\\rutilea_env\\lib\\site-packages (from matplotlib->supervision==0.6.0->groundingdino==0.1.0) (1.4.5)\n",
      "Requirement already satisfied: pyparsing<3.1,>=2.3.1 in c:\\users\\mhajj\\documents\\rutilea\\rutilea_env\\lib\\site-packages (from matplotlib->supervision==0.6.0->groundingdino==0.1.0) (2.4.7)\n",
      "Requirement already satisfied: python-dateutil>=2.7 in c:\\users\\mhajj\\documents\\rutilea\\rutilea_env\\lib\\site-packages (from matplotlib->supervision==0.6.0->groundingdino==0.1.0) (2.8.2)\n",
      "Requirement already satisfied: colorama in c:\\users\\mhajj\\documents\\rutilea\\rutilea_env\\lib\\site-packages (from tqdm>=4.27->transformers->groundingdino==0.1.0) (0.4.4)\n",
      "Requirement already satisfied: MarkupSafe>=2.0 in c:\\users\\mhajj\\documents\\rutilea\\rutilea_env\\lib\\site-packages (from jinja2->torch->groundingdino==0.1.0) (2.1.2)\n",
      "Requirement already satisfied: charset-normalizer<3,>=2 in c:\\users\\mhajj\\documents\\rutilea\\rutilea_env\\lib\\site-packages (from requests->torchvision->groundingdino==0.1.0) (2.1.1)\n",
      "Requirement already satisfied: idna<4,>=2.5 in c:\\users\\mhajj\\documents\\rutilea\\rutilea_env\\lib\\site-packages (from requests->torchvision->groundingdino==0.1.0) (2.10)\n",
      "Requirement already satisfied: urllib3<1.27,>=1.21.1 in c:\\users\\mhajj\\documents\\rutilea\\rutilea_env\\lib\\site-packages (from requests->torchvision->groundingdino==0.1.0) (1.26.13)\n",
      "Requirement already satisfied: certifi>=2017.4.17 in c:\\users\\mhajj\\documents\\rutilea\\rutilea_env\\lib\\site-packages (from requests->torchvision->groundingdino==0.1.0) (2022.12.7)\n",
      "Requirement already satisfied: mpmath>=0.19 in c:\\users\\mhajj\\documents\\rutilea\\rutilea_env\\lib\\site-packages (from sympy->torch->groundingdino==0.1.0) (1.2.1)\n",
      "Requirement already satisfied: six in c:\\users\\mhajj\\documents\\rutilea\\rutilea_env\\lib\\site-packages (from cycler>=0.10->matplotlib->supervision==0.6.0->groundingdino==0.1.0) (1.16.0)\n",
      "Installing collected packages: supervision, groundingdino\n",
      "  Attempting uninstall: supervision\n",
      "    Found existing installation: supervision 0.4.0\n",
      "    Uninstalling supervision-0.4.0:\n",
      "      Successfully uninstalled supervision-0.4.0\n",
      "  Running setup.py develop for groundingdino\n",
      "Successfully installed groundingdino-0.1.0 supervision-0.6.0\n"
     ]
    },
    {
     "name": "stderr",
     "output_type": "stream",
     "text": [
      "WARNING: Ignoring invalid distribution -ensorboard (c:\\users\\mhajj\\documents\\rutilea\\rutilea_env\\lib\\site-packages)\n",
      "WARNING: Ignoring invalid distribution -illow (c:\\users\\mhajj\\documents\\rutilea\\rutilea_env\\lib\\site-packages)\n",
      "WARNING: Ignoring invalid distribution -ocutils (c:\\users\\mhajj\\documents\\rutilea\\rutilea_env\\lib\\site-packages)\n",
      "WARNING: Ignoring invalid distribution -olorama (c:\\users\\mhajj\\documents\\rutilea\\rutilea_env\\lib\\site-packages)\n",
      "WARNING: Ignoring invalid distribution -otocore (c:\\users\\mhajj\\documents\\rutilea\\rutilea_env\\lib\\site-packages)\n",
      "WARNING: Ignoring invalid distribution -sa (c:\\users\\mhajj\\documents\\rutilea\\rutilea_env\\lib\\site-packages)\n",
      "WARNING: Ignoring invalid distribution -umpy (c:\\users\\mhajj\\documents\\rutilea\\rutilea_env\\lib\\site-packages)\n",
      "WARNING: Ignoring invalid distribution -yparsing (c:\\users\\mhajj\\documents\\rutilea\\rutilea_env\\lib\\site-packages)\n",
      "  WARNING: Ignoring invalid distribution -ensorboard (c:\\users\\mhajj\\documents\\rutilea\\rutilea_env\\lib\\site-packages)\n",
      "  WARNING: Ignoring invalid distribution -illow (c:\\users\\mhajj\\documents\\rutilea\\rutilea_env\\lib\\site-packages)\n",
      "  WARNING: Ignoring invalid distribution -ocutils (c:\\users\\mhajj\\documents\\rutilea\\rutilea_env\\lib\\site-packages)\n",
      "  WARNING: Ignoring invalid distribution -olorama (c:\\users\\mhajj\\documents\\rutilea\\rutilea_env\\lib\\site-packages)\n",
      "  WARNING: Ignoring invalid distribution -otocore (c:\\users\\mhajj\\documents\\rutilea\\rutilea_env\\lib\\site-packages)\n",
      "  WARNING: Ignoring invalid distribution -sa (c:\\users\\mhajj\\documents\\rutilea\\rutilea_env\\lib\\site-packages)\n",
      "  WARNING: Ignoring invalid distribution -umpy (c:\\users\\mhajj\\documents\\rutilea\\rutilea_env\\lib\\site-packages)\n",
      "  WARNING: Ignoring invalid distribution -yparsing (c:\\users\\mhajj\\documents\\rutilea\\rutilea_env\\lib\\site-packages)\n",
      "WARNING: Ignoring invalid distribution -ensorboard (c:\\users\\mhajj\\documents\\rutilea\\rutilea_env\\lib\\site-packages)\n",
      "WARNING: Ignoring invalid distribution -illow (c:\\users\\mhajj\\documents\\rutilea\\rutilea_env\\lib\\site-packages)\n",
      "WARNING: Ignoring invalid distribution -ocutils (c:\\users\\mhajj\\documents\\rutilea\\rutilea_env\\lib\\site-packages)\n",
      "WARNING: Ignoring invalid distribution -olorama (c:\\users\\mhajj\\documents\\rutilea\\rutilea_env\\lib\\site-packages)\n",
      "WARNING: Ignoring invalid distribution -otocore (c:\\users\\mhajj\\documents\\rutilea\\rutilea_env\\lib\\site-packages)\n",
      "WARNING: Ignoring invalid distribution -sa (c:\\users\\mhajj\\documents\\rutilea\\rutilea_env\\lib\\site-packages)\n",
      "WARNING: Ignoring invalid distribution -umpy (c:\\users\\mhajj\\documents\\rutilea\\rutilea_env\\lib\\site-packages)\n",
      "WARNING: Ignoring invalid distribution -yparsing (c:\\users\\mhajj\\documents\\rutilea\\rutilea_env\\lib\\site-packages)\n",
      "WARNING: Ignoring invalid distribution -ensorboard (c:\\users\\mhajj\\documents\\rutilea\\rutilea_env\\lib\\site-packages)\n",
      "WARNING: Ignoring invalid distribution -illow (c:\\users\\mhajj\\documents\\rutilea\\rutilea_env\\lib\\site-packages)\n",
      "WARNING: Ignoring invalid distribution -ocutils (c:\\users\\mhajj\\documents\\rutilea\\rutilea_env\\lib\\site-packages)\n",
      "WARNING: Ignoring invalid distribution -olorama (c:\\users\\mhajj\\documents\\rutilea\\rutilea_env\\lib\\site-packages)\n",
      "WARNING: Ignoring invalid distribution -otocore (c:\\users\\mhajj\\documents\\rutilea\\rutilea_env\\lib\\site-packages)\n",
      "WARNING: Ignoring invalid distribution -sa (c:\\users\\mhajj\\documents\\rutilea\\rutilea_env\\lib\\site-packages)\n",
      "WARNING: Ignoring invalid distribution -umpy (c:\\users\\mhajj\\documents\\rutilea\\rutilea_env\\lib\\site-packages)\n",
      "WARNING: Ignoring invalid distribution -yparsing (c:\\users\\mhajj\\documents\\rutilea\\rutilea_env\\lib\\site-packages)\n",
      "WARNING: Ignoring invalid distribution -ensorboard (c:\\users\\mhajj\\documents\\rutilea\\rutilea_env\\lib\\site-packages)\n",
      "WARNING: Ignoring invalid distribution -illow (c:\\users\\mhajj\\documents\\rutilea\\rutilea_env\\lib\\site-packages)\n",
      "WARNING: Ignoring invalid distribution -ocutils (c:\\users\\mhajj\\documents\\rutilea\\rutilea_env\\lib\\site-packages)\n",
      "WARNING: Ignoring invalid distribution -olorama (c:\\users\\mhajj\\documents\\rutilea\\rutilea_env\\lib\\site-packages)\n",
      "WARNING: Ignoring invalid distribution -otocore (c:\\users\\mhajj\\documents\\rutilea\\rutilea_env\\lib\\site-packages)\n",
      "WARNING: Ignoring invalid distribution -sa (c:\\users\\mhajj\\documents\\rutilea\\rutilea_env\\lib\\site-packages)\n",
      "WARNING: Ignoring invalid distribution -umpy (c:\\users\\mhajj\\documents\\rutilea\\rutilea_env\\lib\\site-packages)\n",
      "WARNING: Ignoring invalid distribution -yparsing (c:\\users\\mhajj\\documents\\rutilea\\rutilea_env\\lib\\site-packages)\n"
     ]
    }
   ],
   "source": [
    "!pip install -e ."
   ]
  },
  {
   "cell_type": "code",
   "execution_count": null,
   "metadata": {},
   "outputs": [],
   "source": [
    "# we use latest Grounding DINO model API that is not official yet\n",
    "# !git checkout feature/more_compact_inference_api"
   ]
  },
  {
   "cell_type": "code",
   "execution_count": null,
   "metadata": {},
   "outputs": [],
   "source": [
    "!pip install -q roboflow dataclasses-json onemetric"
   ]
  },
  {
   "cell_type": "code",
   "execution_count": 17,
   "metadata": {},
   "outputs": [
    {
     "name": "stdout",
     "output_type": "stream",
     "text": [
      "c:\\Users\\mhajj\\Documents\\RUTILEA\\mhajjaj\\weights\\groundingdino_swint_ogc.pth ; exist: True\n"
     ]
    }
   ],
   "source": [
    "CONFIG_PATH = os.path.join(HOME, \"GroundingDINO/groundingdino/config/GroundingDINO_SwinT_OGC.py\")\n",
    "WEIGHTS_NAME = \"groundingdino_swint_ogc.pth\"\n",
    "WEIGHTS_PATH = os.path.join(HOME, \"weights\", WEIGHTS_NAME)\n",
    "print(WEIGHTS_PATH, \"; exist:\", os.path.isfile(WEIGHTS_PATH))"
   ]
  },
  {
   "cell_type": "code",
   "execution_count": 22,
   "metadata": {},
   "outputs": [
    {
     "name": "stdout",
     "output_type": "stream",
     "text": [
      "c:\\Users\\mhajj\\Documents\\RUTILEA\\mhajjaj\\GroundingDINO\n"
     ]
    }
   ],
   "source": [
    "import os\n",
    "HOME = os.getcwd()\n",
    "print(HOME)"
   ]
  },
  {
   "cell_type": "code",
   "execution_count": 24,
   "metadata": {},
   "outputs": [
    {
     "name": "stdout",
     "output_type": "stream",
     "text": [
      "final text_encoder_type: bert-base-uncased\n",
      "../data/dog-3.jpeg\n"
     ]
    },
    {
     "data": {
      "text/plain": [
       "True"
      ]
     },
     "execution_count": 24,
     "metadata": {},
     "output_type": "execute_result"
    }
   ],
   "source": [
    "from groundingdino.util.inference import load_model, load_image, predict, annotate\n",
    "import cv2\n",
    "\n",
    "model = load_model(CONFIG_PATH, WEIGHTS_PATH)\n",
    "IMAGE_PATH = \"../data/dog-3.jpeg\"\n",
    "\n",
    "print(IMAGE_PATH)\n",
    "TEXT_PROMPT = \"chair . person . dog .\"\n",
    "BOX_TRESHOLD = 0.35\n",
    "TEXT_TRESHOLD = 0.25\n",
    "\n",
    "image_source, image = load_image(IMAGE_PATH)\n",
    "\n",
    "boxes, logits, phrases = predict(\n",
    "    model=model,\n",
    "    image=image,\n",
    "    caption=TEXT_PROMPT,\n",
    "    box_threshold=BOX_TRESHOLD,\n",
    "    text_threshold=TEXT_TRESHOLD\n",
    ")\n",
    "\n",
    "annotated_frame = annotate(image_source=image_source, boxes=boxes, logits=logits, phrases=phrases)\n",
    "cv2.imwrite(\"annotated_image.jpg\", annotated_frame)"
   ]
  },
  {
   "cell_type": "code",
   "execution_count": 4,
   "metadata": {},
   "outputs": [
    {
     "name": "stderr",
     "output_type": "stream",
     "text": [
      "c:\\Users\\mhajj\\Documents\\RUTILEA\\rutilea_env\\lib\\site-packages\\numpy\\_distributor_init.py:30: UserWarning: loaded more than 1 DLL from .libs:\n",
      "c:\\Users\\mhajj\\Documents\\RUTILEA\\rutilea_env\\lib\\site-packages\\numpy\\.libs\\libopenblas.FB5AE2TYXYH2IJRDKGDGQ3XBKLKTF43H.gfortran-win_amd64.dll\n",
      "c:\\Users\\mhajj\\Documents\\RUTILEA\\rutilea_env\\lib\\site-packages\\numpy\\.libs\\libopenblas64__v0.3.21-gcc_10_3_0.dll\n",
      "  warnings.warn(\"loaded more than 1 DLL from .libs:\"\n"
     ]
    },
    {
     "name": "stdout",
     "output_type": "stream",
     "text": [
      "nvcc: NVIDIA (R) Cuda compiler driver\n",
      "Copyright (c) 2005-2022 NVIDIA Corporation\n",
      "Built on Wed_Sep_21_10:41:10_Pacific_Daylight_Time_2022\n",
      "Cuda compilation tools, release 11.8, V11.8.89\n",
      "Build cuda_11.8.r11.8/compiler.31833905_0\n",
      "torch:  2.0 ; cuda:  cu118\n",
      "roboflow: 1.1.6 ; supervision: 0.4.0\n"
     ]
    }
   ],
   "source": [
    "import torch\n",
    "!nvcc --version\n",
    "TORCH_VERSION = \".\".join(torch.__version__.split(\".\")[:2])\n",
    "CUDA_VERSION = torch.__version__.split(\"+\")[-1]\n",
    "print(\"torch: \", TORCH_VERSION, \"; cuda: \", CUDA_VERSION)\n",
    "\n",
    "import roboflow\n",
    "import supervision\n",
    "\n",
    "print(\n",
    "    \"roboflow:\", roboflow.__version__, \n",
    "    \"; supervision:\", supervision.__version__\n",
    ")"
   ]
  },
  {
   "cell_type": "code",
   "execution_count": 5,
   "metadata": {},
   "outputs": [
    {
     "name": "stdout",
     "output_type": "stream",
     "text": [
      "c:\\Users\\mhajj\\Documents\\RUTILEA\\mhajjaj\\GroundingDINO/groundingdino/config/GroundingDINO_SwinT_OGC.py ; exist: True\n"
     ]
    }
   ],
   "source": [
    "# confirm that configuration file exist\n",
    "\n",
    "import os\n",
    "\n",
    "CONFIG_PATH = os.path.join(HOME, \"GroundingDINO/groundingdino/config/GroundingDINO_SwinT_OGC.py\")\n",
    "print(CONFIG_PATH, \"; exist:\", os.path.isfile(CONFIG_PATH))"
   ]
  },
  {
   "cell_type": "code",
   "execution_count": 6,
   "metadata": {},
   "outputs": [
    {
     "name": "stdout",
     "output_type": "stream",
     "text": [
      "c:\\Users\\mhajj\\Documents\\RUTILEA\\mhajjaj\\weights\\groundingdino_swint_ogc.pth ; exist: True\n"
     ]
    }
   ],
   "source": [
    "WEIGHTS_NAME = \"groundingdino_swint_ogc.pth\"\n",
    "WEIGHTS_PATH = os.path.join(HOME, \"weights\", WEIGHTS_NAME)\n",
    "print(WEIGHTS_PATH, \"; exist:\", os.path.isfile(WEIGHTS_PATH))"
   ]
  },
  {
   "cell_type": "code",
   "execution_count": null,
   "metadata": {},
   "outputs": [],
   "source": [
    "%cd {HOME}/GroundingDINO"
   ]
  },
  {
   "cell_type": "code",
   "execution_count": null,
   "metadata": {},
   "outputs": [],
   "source": [
    "WEIGHTS_PATH"
   ]
  },
  {
   "cell_type": "code",
   "execution_count": 25,
   "metadata": {},
   "outputs": [
    {
     "name": "stdout",
     "output_type": "stream",
     "text": [
      "final text_encoder_type: bert-base-uncased\n"
     ]
    }
   ],
   "source": [
    "from groundingdino.util.inference import Model\n",
    "\n",
    "model = Model(model_config_path=CONFIG_PATH, model_checkpoint_path=WEIGHTS_PATH)"
   ]
  },
  {
   "cell_type": "code",
   "execution_count": 26,
   "metadata": {},
   "outputs": [],
   "source": [
    "SOURCE_IMAGE_PATH = f\"{HOME}/data/dog-3.jpeg\"\n",
    "CLASSES = ['car', 'dog', 'person', 'nose', 'chair', 'shoe', 'ear']\n",
    "BOX_TRESHOLD = 0.35\n",
    "TEXT_TRESHOLD = 0.25"
   ]
  },
  {
   "cell_type": "code",
   "execution_count": 27,
   "metadata": {},
   "outputs": [
    {
     "data": {
      "text/plain": [
       "('c:\\\\Users\\\\mhajj\\\\Documents\\\\RUTILEA\\\\mhajjaj\\\\GroundingDINO/groundingdino/config/GroundingDINO_SwinT_OGC.py',\n",
       " 'c:\\\\Users\\\\mhajj\\\\Documents\\\\RUTILEA\\\\mhajjaj\\\\weights\\\\groundingdino_swint_ogc.pth')"
      ]
     },
     "execution_count": 27,
     "metadata": {},
     "output_type": "execute_result"
    }
   ],
   "source": [
    "CONFIG_PATH, WEIGHTS_PATH"
   ]
  },
  {
   "cell_type": "code",
   "execution_count": 31,
   "metadata": {},
   "outputs": [],
   "source": [
    "import cv2\n",
    "import supervision as sv\n",
    "\n",
    "image = cv2.imread(SOURCE_IMAGE_PATH)\n",
    "caption = \", \".join(CLASSES)"
   ]
  },
  {
   "cell_type": "code",
   "execution_count": 35,
   "metadata": {},
   "outputs": [
    {
     "ename": "AttributeError",
     "evalue": "'Model' object has no attribute 'predict'",
     "output_type": "error",
     "traceback": [
      "\u001b[1;31m---------------------------------------------------------------------------\u001b[0m",
      "\u001b[1;31mAttributeError\u001b[0m                            Traceback (most recent call last)",
      "\u001b[1;32mc:\\Users\\mhajj\\Documents\\RUTILEA\\mhajjaj\\GroundingDINOTest2.ipynb Cell 23\u001b[0m line \u001b[0;36m1\n\u001b[1;32m----> <a href='vscode-notebook-cell:/c%3A/Users/mhajj/Documents/RUTILEA/mhajjaj/GroundingDINOTest2.ipynb#X44sZmlsZQ%3D%3D?line=0'>1</a>\u001b[0m detections, labels \u001b[39m=\u001b[39m model\u001b[39m.\u001b[39;49mpredict(\n\u001b[0;32m      <a href='vscode-notebook-cell:/c%3A/Users/mhajj/Documents/RUTILEA/mhajjaj/GroundingDINOTest2.ipynb#X44sZmlsZQ%3D%3D?line=1'>2</a>\u001b[0m     image\u001b[39m=\u001b[39mimage,\n\u001b[0;32m      <a href='vscode-notebook-cell:/c%3A/Users/mhajj/Documents/RUTILEA/mhajjaj/GroundingDINOTest2.ipynb#X44sZmlsZQ%3D%3D?line=2'>3</a>\u001b[0m     caption\u001b[39m=\u001b[39mcaption,\n\u001b[0;32m      <a href='vscode-notebook-cell:/c%3A/Users/mhajj/Documents/RUTILEA/mhajjaj/GroundingDINOTest2.ipynb#X44sZmlsZQ%3D%3D?line=3'>4</a>\u001b[0m     box_threshold\u001b[39m=\u001b[39mBOX_TRESHOLD,\n\u001b[0;32m      <a href='vscode-notebook-cell:/c%3A/Users/mhajj/Documents/RUTILEA/mhajjaj/GroundingDINOTest2.ipynb#X44sZmlsZQ%3D%3D?line=4'>5</a>\u001b[0m     text_threshold\u001b[39m=\u001b[39mTEXT_TRESHOLD\n\u001b[0;32m      <a href='vscode-notebook-cell:/c%3A/Users/mhajj/Documents/RUTILEA/mhajjaj/GroundingDINOTest2.ipynb#X44sZmlsZQ%3D%3D?line=5'>6</a>\u001b[0m )\n",
      "\u001b[1;31mAttributeError\u001b[0m: 'Model' object has no attribute 'predict'"
     ]
    }
   ],
   "source": [
    "detections, labels = model.predict(\n",
    "    image=image,\n",
    "    caption=caption,\n",
    "    box_threshold=BOX_TRESHOLD,\n",
    "    text_threshold=TEXT_TRESHOLD\n",
    ")"
   ]
  },
  {
   "cell_type": "code",
   "execution_count": 34,
   "metadata": {},
   "outputs": [
    {
     "ename": "error",
     "evalue": "OpenCV(4.8.0) D:\\a\\opencv-python\\opencv-python\\opencv\\modules\\imgproc\\src\\color.cpp:182: error: (-215:Assertion failed) !_src.empty() in function 'cv::cvtColor'\n",
     "output_type": "error",
     "traceback": [
      "\u001b[1;31m---------------------------------------------------------------------------\u001b[0m",
      "\u001b[1;31merror\u001b[0m                                     Traceback (most recent call last)",
      "\u001b[1;32mc:\\Users\\mhajj\\Documents\\RUTILEA\\mhajjaj\\GroundingDINOTest2.ipynb Cell 23\u001b[0m line \u001b[0;36m1\n\u001b[1;32m----> <a href='vscode-notebook-cell:/c%3A/Users/mhajj/Documents/RUTILEA/mhajjaj/GroundingDINOTest2.ipynb#X22sZmlsZQ%3D%3D?line=0'>1</a>\u001b[0m detections, labels \u001b[39m=\u001b[39m model\u001b[39m.\u001b[39;49mpredict_with_caption(\n\u001b[0;32m      <a href='vscode-notebook-cell:/c%3A/Users/mhajj/Documents/RUTILEA/mhajjaj/GroundingDINOTest2.ipynb#X22sZmlsZQ%3D%3D?line=1'>2</a>\u001b[0m     image\u001b[39m=\u001b[39;49mimage,\n\u001b[0;32m      <a href='vscode-notebook-cell:/c%3A/Users/mhajj/Documents/RUTILEA/mhajjaj/GroundingDINOTest2.ipynb#X22sZmlsZQ%3D%3D?line=2'>3</a>\u001b[0m     caption\u001b[39m=\u001b[39;49mcaption,\n\u001b[0;32m      <a href='vscode-notebook-cell:/c%3A/Users/mhajj/Documents/RUTILEA/mhajjaj/GroundingDINOTest2.ipynb#X22sZmlsZQ%3D%3D?line=3'>4</a>\u001b[0m     box_threshold\u001b[39m=\u001b[39;49mBOX_TRESHOLD,\n\u001b[0;32m      <a href='vscode-notebook-cell:/c%3A/Users/mhajj/Documents/RUTILEA/mhajjaj/GroundingDINOTest2.ipynb#X22sZmlsZQ%3D%3D?line=4'>5</a>\u001b[0m     text_threshold\u001b[39m=\u001b[39;49mTEXT_TRESHOLD\n\u001b[0;32m      <a href='vscode-notebook-cell:/c%3A/Users/mhajj/Documents/RUTILEA/mhajjaj/GroundingDINOTest2.ipynb#X22sZmlsZQ%3D%3D?line=5'>6</a>\u001b[0m )\n",
      "File \u001b[1;32mc:\\Users\\mhajj\\Documents\\RUTILEA\\mhajjaj\\GroundingDINO\\groundingdino\\util\\inference.py:163\u001b[0m, in \u001b[0;36mModel.predict_with_caption\u001b[1;34m(self, image, caption, box_threshold, text_threshold)\u001b[0m\n\u001b[0;32m    138\u001b[0m \u001b[39mdef\u001b[39;00m \u001b[39mpredict_with_caption\u001b[39m(\n\u001b[0;32m    139\u001b[0m     \u001b[39mself\u001b[39m,\n\u001b[0;32m    140\u001b[0m     image: np\u001b[39m.\u001b[39mndarray,\n\u001b[1;32m   (...)\u001b[0m\n\u001b[0;32m    143\u001b[0m     text_threshold: \u001b[39mfloat\u001b[39m \u001b[39m=\u001b[39m \u001b[39m0.25\u001b[39m\n\u001b[0;32m    144\u001b[0m ) \u001b[39m-\u001b[39m\u001b[39m>\u001b[39m Tuple[sv\u001b[39m.\u001b[39mDetections, List[\u001b[39mstr\u001b[39m]]:\n\u001b[0;32m    145\u001b[0m \u001b[39m    \u001b[39m\u001b[39m\"\"\"\u001b[39;00m\n\u001b[0;32m    146\u001b[0m \u001b[39m    import cv2\u001b[39;00m\n\u001b[0;32m    147\u001b[0m \n\u001b[1;32m   (...)\u001b[0m\n\u001b[0;32m    161\u001b[0m \u001b[39m    annotated_image = box_annotator.annotate(scene=image, detections=detections, labels=labels)\u001b[39;00m\n\u001b[0;32m    162\u001b[0m \u001b[39m    \"\"\"\u001b[39;00m\n\u001b[1;32m--> 163\u001b[0m     processed_image \u001b[39m=\u001b[39m Model\u001b[39m.\u001b[39;49mpreprocess_image(image_bgr\u001b[39m=\u001b[39;49mimage)\u001b[39m.\u001b[39mto(\u001b[39mself\u001b[39m\u001b[39m.\u001b[39mdevice)\n\u001b[0;32m    164\u001b[0m     boxes, logits, phrases \u001b[39m=\u001b[39m predict(\n\u001b[0;32m    165\u001b[0m         model\u001b[39m=\u001b[39m\u001b[39mself\u001b[39m\u001b[39m.\u001b[39mmodel,\n\u001b[0;32m    166\u001b[0m         image\u001b[39m=\u001b[39mprocessed_image,\n\u001b[1;32m   (...)\u001b[0m\n\u001b[0;32m    169\u001b[0m         text_threshold\u001b[39m=\u001b[39mtext_threshold, \n\u001b[0;32m    170\u001b[0m         device\u001b[39m=\u001b[39m\u001b[39mself\u001b[39m\u001b[39m.\u001b[39mdevice)\n\u001b[0;32m    171\u001b[0m     source_h, source_w, _ \u001b[39m=\u001b[39m image\u001b[39m.\u001b[39mshape\n",
      "File \u001b[1;32mc:\\Users\\mhajj\\Documents\\RUTILEA\\mhajjaj\\GroundingDINO\\groundingdino\\util\\inference.py:233\u001b[0m, in \u001b[0;36mModel.preprocess_image\u001b[1;34m(image_bgr)\u001b[0m\n\u001b[0;32m    224\u001b[0m \u001b[39m@staticmethod\u001b[39m\n\u001b[0;32m    225\u001b[0m \u001b[39mdef\u001b[39;00m \u001b[39mpreprocess_image\u001b[39m(image_bgr: np\u001b[39m.\u001b[39mndarray) \u001b[39m-\u001b[39m\u001b[39m>\u001b[39m torch\u001b[39m.\u001b[39mTensor:\n\u001b[0;32m    226\u001b[0m     transform \u001b[39m=\u001b[39m T\u001b[39m.\u001b[39mCompose(\n\u001b[0;32m    227\u001b[0m         [\n\u001b[0;32m    228\u001b[0m             T\u001b[39m.\u001b[39mRandomResize([\u001b[39m800\u001b[39m], max_size\u001b[39m=\u001b[39m\u001b[39m1333\u001b[39m),\n\u001b[1;32m   (...)\u001b[0m\n\u001b[0;32m    231\u001b[0m         ]\n\u001b[0;32m    232\u001b[0m     )\n\u001b[1;32m--> 233\u001b[0m     image_pillow \u001b[39m=\u001b[39m Image\u001b[39m.\u001b[39mfromarray(cv2\u001b[39m.\u001b[39;49mcvtColor(image_bgr, cv2\u001b[39m.\u001b[39;49mCOLOR_BGR2RGB))\n\u001b[0;32m    234\u001b[0m     image_transformed, _ \u001b[39m=\u001b[39m transform(image_pillow, \u001b[39mNone\u001b[39;00m)\n\u001b[0;32m    235\u001b[0m     \u001b[39mreturn\u001b[39;00m image_transformed\n",
      "\u001b[1;31merror\u001b[0m: OpenCV(4.8.0) D:\\a\\opencv-python\\opencv-python\\opencv\\modules\\imgproc\\src\\color.cpp:182: error: (-215:Assertion failed) !_src.empty() in function 'cv::cvtColor'\n"
     ]
    }
   ],
   "source": [
    "# detections, labels = model.predict_with_caption(\n",
    "#     image=image,\n",
    "#     caption=caption,\n",
    "#     box_threshold=BOX_TRESHOLD,\n",
    "#     text_threshold=TEXT_TRESHOLD\n",
    "# )"
   ]
  },
  {
   "cell_type": "code",
   "execution_count": 33,
   "metadata": {},
   "outputs": [
    {
     "ename": "NameError",
     "evalue": "name 'labels' is not defined",
     "output_type": "error",
     "traceback": [
      "\u001b[1;31m---------------------------------------------------------------------------\u001b[0m",
      "\u001b[1;31mNameError\u001b[0m                                 Traceback (most recent call last)",
      "\u001b[1;32mc:\\Users\\mhajj\\Documents\\RUTILEA\\mhajjaj\\GroundingDINOTest2.ipynb Cell 24\u001b[0m line \u001b[0;36m5\n\u001b[0;32m      <a href='vscode-notebook-cell:/c%3A/Users/mhajj/Documents/RUTILEA/mhajjaj/GroundingDINOTest2.ipynb#X43sZmlsZQ%3D%3D?line=0'>1</a>\u001b[0m box_annotator \u001b[39m=\u001b[39m sv\u001b[39m.\u001b[39mBoxAnnotator()\n\u001b[0;32m      <a href='vscode-notebook-cell:/c%3A/Users/mhajj/Documents/RUTILEA/mhajjaj/GroundingDINOTest2.ipynb#X43sZmlsZQ%3D%3D?line=1'>2</a>\u001b[0m labels \u001b[39m=\u001b[39m [\n\u001b[0;32m      <a href='vscode-notebook-cell:/c%3A/Users/mhajj/Documents/RUTILEA/mhajjaj/GroundingDINOTest2.ipynb#X43sZmlsZQ%3D%3D?line=2'>3</a>\u001b[0m     \u001b[39mf\u001b[39m\u001b[39m\"\u001b[39m\u001b[39m{\u001b[39;00mlabel\u001b[39m}\u001b[39;00m\u001b[39m \u001b[39m\u001b[39m{\u001b[39;00mconfidence\u001b[39m:\u001b[39;00m\u001b[39m0.2f\u001b[39m\u001b[39m}\u001b[39;00m\u001b[39m\"\u001b[39m \n\u001b[0;32m      <a href='vscode-notebook-cell:/c%3A/Users/mhajj/Documents/RUTILEA/mhajjaj/GroundingDINOTest2.ipynb#X43sZmlsZQ%3D%3D?line=3'>4</a>\u001b[0m     \u001b[39mfor\u001b[39;00m label, (_, confidence, class_id, _) \n\u001b[1;32m----> <a href='vscode-notebook-cell:/c%3A/Users/mhajj/Documents/RUTILEA/mhajjaj/GroundingDINOTest2.ipynb#X43sZmlsZQ%3D%3D?line=4'>5</a>\u001b[0m     \u001b[39min\u001b[39;00m \u001b[39mzip\u001b[39m(labels, detections)]\n\u001b[0;32m      <a href='vscode-notebook-cell:/c%3A/Users/mhajj/Documents/RUTILEA/mhajjaj/GroundingDINOTest2.ipynb#X43sZmlsZQ%3D%3D?line=5'>6</a>\u001b[0m annotated_frame \u001b[39m=\u001b[39m box_annotator\u001b[39m.\u001b[39mannotate(scene\u001b[39m=\u001b[39mimage\u001b[39m.\u001b[39mcopy(), detections\u001b[39m=\u001b[39mdetections, labels\u001b[39m=\u001b[39mlabels)\n\u001b[0;32m      <a href='vscode-notebook-cell:/c%3A/Users/mhajj/Documents/RUTILEA/mhajjaj/GroundingDINOTest2.ipynb#X43sZmlsZQ%3D%3D?line=8'>9</a>\u001b[0m sv\u001b[39m.\u001b[39mplot_image(annotated_frame, (\u001b[39m16\u001b[39m, \u001b[39m16\u001b[39m))\n",
      "\u001b[1;31mNameError\u001b[0m: name 'labels' is not defined"
     ]
    }
   ],
   "source": [
    "box_annotator = sv.BoxAnnotator()\n",
    "labels = [\n",
    "    f\"{label} {confidence:0.2f}\" \n",
    "    for label, (_, confidence, class_id, _) \n",
    "    in zip(labels, detections)]\n",
    "annotated_frame = box_annotator.annotate(scene=image.copy(), detections=detections, labels=labels)\n",
    "\n",
    "\n",
    "sv.plot_image(annotated_frame, (16, 16))"
   ]
  },
  {
   "cell_type": "code",
   "execution_count": null,
   "metadata": {},
   "outputs": [],
   "source": [
    "import os\n",
    "import supervision as sv\n",
    "\n",
    "IMAGE_NAME = \"dog-3.jpeg\"\n",
    "IMAGE_PATH = os.path.join(HOME, \"data\", IMAGE_NAME)\n",
    "\n",
    "TEXT_PROMPT = \"chair with man sitting on it\"\n",
    "BOX_TRESHOLD = 0.35\n",
    "TEXT_TRESHOLD = 0.25\n",
    "\n",
    "image_source, image = load_image(IMAGE_PATH)\n",
    "\n",
    "boxes, logits, phrases = predict(\n",
    "    model=model, \n",
    "    image=image, \n",
    "    caption=TEXT_PROMPT, \n",
    "    box_threshold=BOX_TRESHOLD, \n",
    "    text_threshold=TEXT_TRESHOLD\n",
    ")\n",
    "\n",
    "annotated_frame = annotate(image_source=image_source, boxes=boxes, logits=logits, phrases=phrases)\n",
    "\n",
    "%matplotlib inline  \n",
    "sv.plot_image(annotated_frame, (16, 16))"
   ]
  },
  {
   "cell_type": "code",
   "execution_count": null,
   "metadata": {},
   "outputs": [],
   "source": [
    "import os\n",
    "import supervision as sv\n",
    "\n",
    "IMAGE_NAME = \"dog-3.jpeg\"\n",
    "IMAGE_PATH = os.path.join(HOME, \"data\", IMAGE_NAME)\n",
    "\n",
    "TEXT_PROMPT = \"chair, dog, table, shoe, light bulb, coffee, hat, glasses, car, tail, umbrella\"\n",
    "BOX_TRESHOLD = 0.35\n",
    "TEXT_TRESHOLD = 0.25\n",
    "\n",
    "image_source, image = load_image(IMAGE_PATH)\n",
    "\n",
    "boxes, logits, phrases = predict(\n",
    "    model=model, \n",
    "    image=image, \n",
    "    caption=TEXT_PROMPT, \n",
    "    box_threshold=BOX_TRESHOLD, \n",
    "    text_threshold=TEXT_TRESHOLD\n",
    ")\n",
    "\n",
    "annotated_frame = annotate(image_source=image_source, boxes=boxes, logits=logits, phrases=phrases)\n",
    "\n",
    "%matplotlib inline  \n",
    "sv.plot_image(annotated_frame, (16, 16))"
   ]
  },
  {
   "cell_type": "code",
   "execution_count": null,
   "metadata": {},
   "outputs": [],
   "source": [
    "import os\n",
    "import supervision as sv\n",
    "\n",
    "IMAGE_NAME = \"dog-2.jpeg\"\n",
    "IMAGE_PATH = os.path.join(HOME, \"data\", IMAGE_NAME)\n",
    "\n",
    "TEXT_PROMPT = \"glass\"\n",
    "BOX_TRESHOLD = 0.35\n",
    "TEXT_TRESHOLD = 0.25\n",
    "\n",
    "image_source, image = load_image(IMAGE_PATH)\n",
    "\n",
    "boxes, logits, phrases = predict(\n",
    "    model=model, \n",
    "    image=image, \n",
    "    caption=TEXT_PROMPT, \n",
    "    box_threshold=BOX_TRESHOLD, \n",
    "    text_threshold=TEXT_TRESHOLD\n",
    ")\n",
    "\n",
    "annotated_frame = annotate(image_source=image_source, boxes=boxes, logits=logits, phrases=phrases)\n",
    "\n",
    "%matplotlib inline  \n",
    "sv.plot_image(annotated_frame, (16, 16))"
   ]
  },
  {
   "cell_type": "code",
   "execution_count": null,
   "metadata": {},
   "outputs": [],
   "source": [
    "import os\n",
    "import supervision as sv\n",
    "\n",
    "IMAGE_NAME = \"dog-2.jpeg\"\n",
    "IMAGE_PATH = os.path.join(HOME, \"data\", IMAGE_NAME)\n",
    "\n",
    "TEXT_PROMPT = \"glass most to the right\"\n",
    "BOX_TRESHOLD = 0.35\n",
    "TEXT_TRESHOLD = 0.25\n",
    "\n",
    "image_source, image = load_image(IMAGE_PATH)\n",
    "\n",
    "boxes, logits, phrases = predict(\n",
    "    model=model, \n",
    "    image=image, \n",
    "    caption=TEXT_PROMPT, \n",
    "    box_threshold=BOX_TRESHOLD, \n",
    "    text_threshold=TEXT_TRESHOLD\n",
    ")\n",
    "\n",
    "annotated_frame = annotate(image_source=image_source, boxes=boxes, logits=logits, phrases=phrases)\n",
    "\n",
    "%matplotlib inline  \n",
    "sv.plot_image(annotated_frame, (16, 16))"
   ]
  },
  {
   "cell_type": "code",
   "execution_count": null,
   "metadata": {},
   "outputs": [],
   "source": [
    "import os\n",
    "import supervision as sv\n",
    "\n",
    "IMAGE_NAME = \"dog-2.jpeg\"\n",
    "IMAGE_PATH = os.path.join(HOME, \"data\", IMAGE_NAME)\n",
    "\n",
    "TEXT_PROMPT = \"straw\"\n",
    "BOX_TRESHOLD = 0.35\n",
    "TEXT_TRESHOLD = 0.25\n",
    "\n",
    "image_source, image = load_image(IMAGE_PATH)\n",
    "\n",
    "boxes, logits, phrases = predict(\n",
    "    model=model, \n",
    "    image=image, \n",
    "    caption=TEXT_PROMPT, \n",
    "    box_threshold=BOX_TRESHOLD, \n",
    "    text_threshold=TEXT_TRESHOLD\n",
    ")\n",
    "\n",
    "annotated_frame = annotate(image_source=image_source, boxes=boxes, logits=logits, phrases=phrases)\n",
    "\n",
    "%matplotlib inline  \n",
    "sv.plot_image(annotated_frame, (16, 16))"
   ]
  },
  {
   "cell_type": "code",
   "execution_count": null,
   "metadata": {},
   "outputs": [],
   "source": [
    "import os\n",
    "import supervision as sv\n",
    "\n",
    "IMAGE_NAME = \"dog-4.jpeg\"\n",
    "IMAGE_PATH = os.path.join(HOME, \"data\", IMAGE_NAME)\n",
    "\n",
    "TEXT_PROMPT = \"mens shadow\"\n",
    "BOX_TRESHOLD = 0.35\n",
    "TEXT_TRESHOLD = 0.25\n",
    "\n",
    "image_source, image = load_image(IMAGE_PATH)\n",
    "\n",
    "boxes, logits, phrases = predict(\n",
    "    model=model, \n",
    "    image=image, \n",
    "    caption=TEXT_PROMPT, \n",
    "    box_threshold=BOX_TRESHOLD, \n",
    "    text_threshold=TEXT_TRESHOLD\n",
    ")\n",
    "\n",
    "annotated_frame = annotate(image_source=image_source, boxes=boxes, logits=logits, phrases=phrases)\n",
    "\n",
    "%matplotlib inline  \n",
    "sv.plot_image(annotated_frame, (16, 16))"
   ]
  }
 ],
 "metadata": {
  "kernelspec": {
   "display_name": "rutilea_env",
   "language": "python",
   "name": "python3"
  },
  "language_info": {
   "codemirror_mode": {
    "name": "ipython",
    "version": 3
   },
   "file_extension": ".py",
   "mimetype": "text/x-python",
   "name": "python",
   "nbconvert_exporter": "python",
   "pygments_lexer": "ipython3",
   "version": "3.10.11"
  },
  "orig_nbformat": 4
 },
 "nbformat": 4,
 "nbformat_minor": 2
}
