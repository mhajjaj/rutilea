{
 "cells": [
  {
   "cell_type": "code",
   "execution_count": 4,
   "metadata": {},
   "outputs": [
    {
     "name": "stdout",
     "output_type": "stream",
     "text": [
      "File renaming completed.\n"
     ]
    }
   ],
   "source": [
    "import os\n",
    "import glob\n",
    "\n",
    "def rename_files(folder_path):\n",
    "    # List of valid file extensions (both images and text files)\n",
    "    valid_extensions = [\".jpg\", \".jpeg\", \".png\", \".gif\", \".bmp\", \".txt\"]\n",
    "\n",
    "    # Navigate to the folder containing the files\n",
    "    os.chdir(folder_path)\n",
    "\n",
    "    # Get a list of all files in the folder\n",
    "    files = os.listdir()\n",
    "\n",
    "    # Iterate through each file\n",
    "    for filename in files:\n",
    "        # Check if the file has a valid extension\n",
    "        if any(filename.lower().endswith(ext) for ext in valid_extensions):\n",
    "            # Generate a new name for the file (you can customize this part)\n",
    "            new_name = \"file_\" + filename\n",
    "\n",
    "            # Rename the file\n",
    "            os.rename(filename, new_name)\n",
    "\n",
    "if __name__ == \"__main__\":\n",
    "    folder_path = input(\"Enter the folder path: \")\n",
    "    rename_files(folder_path)\n",
    "    print(\"File renaming completed.\")\n"
   ]
  },
  {
   "cell_type": "code",
   "execution_count": 7,
   "metadata": {},
   "outputs": [
    {
     "name": "stdout",
     "output_type": "stream",
     "text": [
      "File renaming completed.\n"
     ]
    }
   ],
   "source": [
    "import os\n",
    "import glob\n",
    "\n",
    "def clean_filename(filename):\n",
    "    # Replace strange characters with underscores\n",
    "    return ''.join(c if c.isalnum() or c in ['_', '.'] else '_' for c in filename)\n",
    "\n",
    "def rename_files(folder_path):\n",
    "    # List of valid file extensions (both images and text files)\n",
    "    valid_extensions = [\".jpg\", \".jpeg\", \".png\", \".gif\", \".bmp\", \".txt\"]\n",
    "\n",
    "    # Navigate to the folder containing the files\n",
    "    os.chdir(folder_path)\n",
    "\n",
    "    # Get a list of all files in the folder\n",
    "    files = os.listdir()\n",
    "\n",
    "    # Iterate through each file\n",
    "    for filename in files:\n",
    "        # Check if the file has a valid extension\n",
    "        if any(filename.lower().endswith(ext) for ext in valid_extensions):\n",
    "            # Generate a new name for the file with cleaned characters\n",
    "            new_name = clean_filename(filename)\n",
    "\n",
    "            # Rename the file\n",
    "            os.rename(filename, new_name)\n",
    "\n",
    "if __name__ == \"__main__\":\n",
    "    folder_path = input(\"Enter the folder path: \")\n",
    "    rename_files(folder_path)\n",
    "    print(\"File renaming completed.\")\n"
   ]
  }
 ],
 "metadata": {
  "kernelspec": {
   "display_name": "rutilea",
   "language": "python",
   "name": "python3"
  },
  "language_info": {
   "codemirror_mode": {
    "name": "ipython",
    "version": 3
   },
   "file_extension": ".py",
   "mimetype": "text/x-python",
   "name": "python",
   "nbconvert_exporter": "python",
   "pygments_lexer": "ipython3",
   "version": "3.10.11"
  },
  "orig_nbformat": 4
 },
 "nbformat": 4,
 "nbformat_minor": 2
}
