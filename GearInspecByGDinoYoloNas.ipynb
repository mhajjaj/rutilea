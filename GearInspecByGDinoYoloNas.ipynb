{
 "cells": [
  {
   "cell_type": "code",
   "execution_count": 13,
   "metadata": {},
   "outputs": [
    {
     "name": "stdout",
     "output_type": "stream",
     "text": [
      "0.6.0\n"
     ]
    },
    {
     "ename": "ImportError",
     "evalue": "cannot import name 'BaseDataset' from 'supervision' (c:\\Users\\mhajj\\Documents\\RUTILEA\\rutilea_env\\lib\\site-packages\\supervision\\__init__.py)",
     "output_type": "error",
     "traceback": [
      "\u001b[1;31m---------------------------------------------------------------------------\u001b[0m",
      "\u001b[1;31mImportError\u001b[0m                               Traceback (most recent call last)",
      "\u001b[1;32mc:\\Users\\mhajj\\Documents\\RUTILEA\\mhajjaj\\GearInspecByGDinoYoloNas.ipynb Cell 1\u001b[0m line \u001b[0;36m3\n\u001b[0;32m      <a href='vscode-notebook-cell:/c%3A/Users/mhajj/Documents/RUTILEA/mhajjaj/GearInspecByGDinoYoloNas.ipynb#W1sZmlsZQ%3D%3D?line=0'>1</a>\u001b[0m \u001b[39mimport\u001b[39;00m \u001b[39msupervision\u001b[39;00m \u001b[39mas\u001b[39;00m \u001b[39msv\u001b[39;00m\n\u001b[0;32m      <a href='vscode-notebook-cell:/c%3A/Users/mhajj/Documents/RUTILEA/mhajjaj/GearInspecByGDinoYoloNas.ipynb#W1sZmlsZQ%3D%3D?line=1'>2</a>\u001b[0m \u001b[39mprint\u001b[39m(sv\u001b[39m.\u001b[39m__version__)\n\u001b[1;32m----> <a href='vscode-notebook-cell:/c%3A/Users/mhajj/Documents/RUTILEA/mhajjaj/GearInspecByGDinoYoloNas.ipynb#W1sZmlsZQ%3D%3D?line=2'>3</a>\u001b[0m \u001b[39mfrom\u001b[39;00m \u001b[39msupervision\u001b[39;00m \u001b[39mimport\u001b[39;00m BaseDataset\n",
      "\u001b[1;31mImportError\u001b[0m: cannot import name 'BaseDataset' from 'supervision' (c:\\Users\\mhajj\\Documents\\RUTILEA\\rutilea_env\\lib\\site-packages\\supervision\\__init__.py)"
     ]
    }
   ],
   "source": [
    "import supervision as sv\n",
    "print(sv.__version__)\n",
    "from supervision import BaseDataset"
   ]
  },
  {
   "cell_type": "code",
   "execution_count": 2,
   "metadata": {},
   "outputs": [
    {
     "name": "stdout",
     "output_type": "stream",
     "text": [
      "0.6.0\n"
     ]
    },
    {
     "ename": "AttributeError",
     "evalue": "module 'supervision' has no attribute 'BaseDataset'",
     "output_type": "error",
     "traceback": [
      "\u001b[1;31m---------------------------------------------------------------------------\u001b[0m",
      "\u001b[1;31mAttributeError\u001b[0m                            Traceback (most recent call last)",
      "\u001b[1;32mc:\\Users\\mhajj\\Documents\\RUTILEA\\mhajjaj\\GearInspecByGDinoYoloNas.ipynb Cell 1\u001b[0m line \u001b[0;36m4\n\u001b[0;32m      <a href='vscode-notebook-cell:/c%3A/Users/mhajj/Documents/RUTILEA/mhajjaj/GearInspecByGDinoYoloNas.ipynb#W0sZmlsZQ%3D%3D?line=0'>1</a>\u001b[0m \u001b[39mimport\u001b[39;00m \u001b[39msupervision\u001b[39;00m \u001b[39mas\u001b[39;00m \u001b[39msv\u001b[39;00m\n\u001b[0;32m      <a href='vscode-notebook-cell:/c%3A/Users/mhajj/Documents/RUTILEA/mhajjaj/GearInspecByGDinoYoloNas.ipynb#W0sZmlsZQ%3D%3D?line=1'>2</a>\u001b[0m \u001b[39mprint\u001b[39m(sv\u001b[39m.\u001b[39m__version__)\n\u001b[1;32m----> <a href='vscode-notebook-cell:/c%3A/Users/mhajj/Documents/RUTILEA/mhajjaj/GearInspecByGDinoYoloNas.ipynb#W0sZmlsZQ%3D%3D?line=3'>4</a>\u001b[0m \u001b[39mfrom\u001b[39;00m \u001b[39mautodistill_yolonas\u001b[39;00m \u001b[39mimport\u001b[39;00m YOLONAS\n\u001b[0;32m      <a href='vscode-notebook-cell:/c%3A/Users/mhajj/Documents/RUTILEA/mhajjaj/GearInspecByGDinoYoloNas.ipynb#W0sZmlsZQ%3D%3D?line=5'>6</a>\u001b[0m target_model \u001b[39m=\u001b[39m YOLONAS()\n\u001b[0;32m      <a href='vscode-notebook-cell:/c%3A/Users/mhajj/Documents/RUTILEA/mhajjaj/GearInspecByGDinoYoloNas.ipynb#W0sZmlsZQ%3D%3D?line=7'>8</a>\u001b[0m \u001b[39m# train a model\u001b[39;00m\n\u001b[0;32m      <a href='vscode-notebook-cell:/c%3A/Users/mhajj/Documents/RUTILEA/mhajjaj/GearInspecByGDinoYoloNas.ipynb#W0sZmlsZQ%3D%3D?line=8'>9</a>\u001b[0m \u001b[39m# specify the directory where your annotations (in YOLO format) are stored\u001b[39;00m\n",
      "File \u001b[1;32mc:\\Users\\mhajj\\Documents\\RUTILEA\\rutilea_env\\lib\\site-packages\\autodistill_yolonas\\__init__.py:1\u001b[0m\n\u001b[1;32m----> 1\u001b[0m \u001b[39mfrom\u001b[39;00m \u001b[39mautodistill_yolonas\u001b[39;00m\u001b[39m.\u001b[39;00m\u001b[39myolonas_model\u001b[39;00m \u001b[39mimport\u001b[39;00m YOLONAS\n\u001b[0;32m      3\u001b[0m __version__ \u001b[39m=\u001b[39m \u001b[39m\"\u001b[39m\u001b[39m0.1.1\u001b[39m\u001b[39m\"\u001b[39m\n",
      "File \u001b[1;32mc:\\Users\\mhajj\\Documents\\RUTILEA\\rutilea_env\\lib\\site-packages\\autodistill_yolonas\\yolonas_model.py:5\u001b[0m\n\u001b[0;32m      3\u001b[0m \u001b[39mimport\u001b[39;00m \u001b[39msupervision\u001b[39;00m \u001b[39mas\u001b[39;00m \u001b[39msv\u001b[39;00m\n\u001b[0;32m      4\u001b[0m \u001b[39mimport\u001b[39;00m \u001b[39mtorch\u001b[39;00m\n\u001b[1;32m----> 5\u001b[0m \u001b[39mfrom\u001b[39;00m \u001b[39mautodistill\u001b[39;00m\u001b[39m.\u001b[39;00m\u001b[39mdetection\u001b[39;00m \u001b[39mimport\u001b[39;00m DetectionTargetModel\n\u001b[0;32m      6\u001b[0m \u001b[39mfrom\u001b[39;00m \u001b[39msuper_gradients\u001b[39;00m\u001b[39m.\u001b[39;00m\u001b[39mtraining\u001b[39;00m \u001b[39mimport\u001b[39;00m Trainer, models\n\u001b[0;32m      7\u001b[0m \u001b[39mfrom\u001b[39;00m \u001b[39msuper_gradients\u001b[39;00m\u001b[39m.\u001b[39;00m\u001b[39mtraining\u001b[39;00m\u001b[39m.\u001b[39;00m\u001b[39mdataloaders\u001b[39;00m\u001b[39m.\u001b[39;00m\u001b[39mdataloaders\u001b[39;00m \u001b[39mimport\u001b[39;00m (\n\u001b[0;32m      8\u001b[0m     coco_detection_yolo_format_train, coco_detection_yolo_format_val)\n",
      "File \u001b[1;32mc:\\Users\\mhajj\\Documents\\RUTILEA\\rutilea_env\\lib\\site-packages\\autodistill\\detection\\__init__.py:1\u001b[0m\n\u001b[1;32m----> 1\u001b[0m \u001b[39mfrom\u001b[39;00m \u001b[39mautodistill\u001b[39;00m\u001b[39m.\u001b[39;00m\u001b[39mdetection\u001b[39;00m\u001b[39m.\u001b[39;00m\u001b[39mcaption_ontology\u001b[39;00m \u001b[39mimport\u001b[39;00m CaptionOntology\n\u001b[0;32m      2\u001b[0m \u001b[39mfrom\u001b[39;00m \u001b[39mautodistill\u001b[39;00m\u001b[39m.\u001b[39;00m\u001b[39mdetection\u001b[39;00m\u001b[39m.\u001b[39;00m\u001b[39mdetection_base_model\u001b[39;00m \u001b[39mimport\u001b[39;00m DetectionBaseModel\n\u001b[0;32m      3\u001b[0m \u001b[39mfrom\u001b[39;00m \u001b[39mautodistill\u001b[39;00m\u001b[39m.\u001b[39;00m\u001b[39mdetection\u001b[39;00m\u001b[39m.\u001b[39;00m\u001b[39mdetection_ontology\u001b[39;00m \u001b[39mimport\u001b[39;00m DetectionOntology\n",
      "File \u001b[1;32mc:\\Users\\mhajj\\Documents\\RUTILEA\\rutilea_env\\lib\\site-packages\\autodistill\\detection\\caption_ontology.py:4\u001b[0m\n\u001b[0;32m      1\u001b[0m \u001b[39mfrom\u001b[39;00m \u001b[39mdataclasses\u001b[39;00m \u001b[39mimport\u001b[39;00m dataclass\n\u001b[0;32m      2\u001b[0m \u001b[39mfrom\u001b[39;00m \u001b[39mtyping\u001b[39;00m \u001b[39mimport\u001b[39;00m Dict, List, Tuple\n\u001b[1;32m----> 4\u001b[0m \u001b[39mfrom\u001b[39;00m \u001b[39mautodistill\u001b[39;00m\u001b[39m.\u001b[39;00m\u001b[39mdetection\u001b[39;00m\u001b[39m.\u001b[39;00m\u001b[39mdetection_ontology\u001b[39;00m \u001b[39mimport\u001b[39;00m DetectionOntology\n\u001b[0;32m      7\u001b[0m \u001b[39m@dataclass\u001b[39m\n\u001b[0;32m      8\u001b[0m \u001b[39mclass\u001b[39;00m \u001b[39mCaptionOntology\u001b[39;00m(DetectionOntology):\n\u001b[0;32m      9\u001b[0m     promptMap: List[Tuple[\u001b[39mstr\u001b[39m, \u001b[39mstr\u001b[39m]]\n",
      "File \u001b[1;32mc:\\Users\\mhajj\\Documents\\RUTILEA\\rutilea_env\\lib\\site-packages\\autodistill\\detection\\detection_ontology.py:4\u001b[0m\n\u001b[0;32m      1\u001b[0m \u001b[39mfrom\u001b[39;00m \u001b[39mdataclasses\u001b[39;00m \u001b[39mimport\u001b[39;00m dataclass\n\u001b[0;32m      2\u001b[0m \u001b[39mfrom\u001b[39;00m \u001b[39mtyping\u001b[39;00m \u001b[39mimport\u001b[39;00m Any, List, Tuple\n\u001b[1;32m----> 4\u001b[0m \u001b[39mfrom\u001b[39;00m \u001b[39mautodistill\u001b[39;00m\u001b[39m.\u001b[39;00m\u001b[39mcore\u001b[39;00m \u001b[39mimport\u001b[39;00m Ontology\n\u001b[0;32m      7\u001b[0m \u001b[39m@dataclass\u001b[39m\n\u001b[0;32m      8\u001b[0m \u001b[39mclass\u001b[39;00m \u001b[39mDetectionOntology\u001b[39;00m(Ontology):\n\u001b[0;32m      9\u001b[0m     promptMap: List[Tuple[Any, \u001b[39mstr\u001b[39m]]\n",
      "File \u001b[1;32mc:\\Users\\mhajj\\Documents\\RUTILEA\\rutilea_env\\lib\\site-packages\\autodistill\\core\\__init__.py:1\u001b[0m\n\u001b[1;32m----> 1\u001b[0m \u001b[39mfrom\u001b[39;00m \u001b[39m.\u001b[39;00m\u001b[39mbase_model\u001b[39;00m \u001b[39mimport\u001b[39;00m BaseModel\n\u001b[0;32m      2\u001b[0m \u001b[39mfrom\u001b[39;00m \u001b[39m.\u001b[39;00m\u001b[39montology\u001b[39;00m \u001b[39mimport\u001b[39;00m Ontology\n\u001b[0;32m      3\u001b[0m \u001b[39mfrom\u001b[39;00m \u001b[39m.\u001b[39;00m\u001b[39mtarget_model\u001b[39;00m \u001b[39mimport\u001b[39;00m TargetModel\n",
      "File \u001b[1;32mc:\\Users\\mhajj\\Documents\\RUTILEA\\rutilea_env\\lib\\site-packages\\autodistill\\core\\base_model.py:11\u001b[0m\n\u001b[0;32m      5\u001b[0m \u001b[39mimport\u001b[39;00m \u001b[39msupervision\u001b[39;00m \u001b[39mas\u001b[39;00m \u001b[39msv\u001b[39;00m\n\u001b[0;32m      7\u001b[0m \u001b[39mfrom\u001b[39;00m \u001b[39m.\u001b[39;00m\u001b[39montology\u001b[39;00m \u001b[39mimport\u001b[39;00m Ontology\n\u001b[0;32m     10\u001b[0m \u001b[39m@dataclass\u001b[39m\n\u001b[1;32m---> 11\u001b[0m \u001b[39mclass\u001b[39;00m \u001b[39mBaseModel\u001b[39;00m(ABC):\n\u001b[0;32m     12\u001b[0m     ontology: Ontology\n\u001b[0;32m     14\u001b[0m     \u001b[39mdef\u001b[39;00m \u001b[39mset_ontology\u001b[39m(\u001b[39mself\u001b[39m, ontology: Ontology):\n",
      "File \u001b[1;32mc:\\Users\\mhajj\\Documents\\RUTILEA\\rutilea_env\\lib\\site-packages\\autodistill\\core\\base_model.py:24\u001b[0m, in \u001b[0;36mBaseModel\u001b[1;34m()\u001b[0m\n\u001b[0;32m     17\u001b[0m \u001b[39m@abstractmethod\u001b[39m\n\u001b[0;32m     18\u001b[0m \u001b[39mdef\u001b[39;00m \u001b[39mpredict\u001b[39m(\u001b[39mself\u001b[39m, \u001b[39minput\u001b[39m: Any) \u001b[39m-\u001b[39m\u001b[39m>\u001b[39m Any:\n\u001b[0;32m     19\u001b[0m     \u001b[39mpass\u001b[39;00m\n\u001b[0;32m     21\u001b[0m \u001b[39m@abstractmethod\u001b[39m\n\u001b[0;32m     22\u001b[0m \u001b[39mdef\u001b[39;00m \u001b[39mlabel\u001b[39m(\n\u001b[0;32m     23\u001b[0m     \u001b[39mself\u001b[39m, input_folder: \u001b[39mstr\u001b[39m, extension: \u001b[39mstr\u001b[39m \u001b[39m=\u001b[39m \u001b[39m\"\u001b[39m\u001b[39m.jpg\u001b[39m\u001b[39m\"\u001b[39m, output_folder: \u001b[39mstr\u001b[39m \u001b[39m=\u001b[39m \u001b[39mNone\u001b[39;00m\n\u001b[1;32m---> 24\u001b[0m ) \u001b[39m-\u001b[39m\u001b[39m>\u001b[39m sv\u001b[39m.\u001b[39;49mBaseDataset:\n\u001b[0;32m     25\u001b[0m     \u001b[39mpass\u001b[39;00m\n",
      "\u001b[1;31mAttributeError\u001b[0m: module 'supervision' has no attribute 'BaseDataset'"
     ]
    }
   ],
   "source": [
    "from autodistill_yolonas import YOLONAS\n",
    "\n",
    "target_model = YOLONAS()\n",
    "\n",
    "# train a model\n",
    "# specify the directory where your annotations (in YOLO format) are stored\n",
    "target_model.train(\"./context_images_labeled\", epochs=20)\n",
    "\n",
    "# run inference on the new model\n",
    "pred = target_model.predict(\"./context_images_labeled/train/images/dog-7.jpg\", confidence=0.01)"
   ]
  }
 ],
 "metadata": {
  "kernelspec": {
   "display_name": "rutilea_env",
   "language": "python",
   "name": "python3"
  },
  "language_info": {
   "codemirror_mode": {
    "name": "ipython",
    "version": 3
   },
   "file_extension": ".py",
   "mimetype": "text/x-python",
   "name": "python",
   "nbconvert_exporter": "python",
   "pygments_lexer": "ipython3",
   "version": "3.10.11"
  },
  "orig_nbformat": 4
 },
 "nbformat": 4,
 "nbformat_minor": 2
}
