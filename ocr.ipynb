{
 "cells": [
  {
   "cell_type": "code",
   "execution_count": 31,
   "metadata": {},
   "outputs": [
    {
     "name": "stdout",
     "output_type": "stream",
     "text": [
      "None\n"
     ]
    }
   ],
   "source": [
    "import shutil\n",
    "\n",
    "tesseract_path = shutil.which('tesseract')\n",
    "print(tesseract_path)"
   ]
  },
  {
   "cell_type": "code",
   "execution_count": 30,
   "metadata": {},
   "outputs": [
    {
     "name": "stdout",
     "output_type": "stream",
     "text": [
      "5.3.1.20230401\n"
     ]
    }
   ],
   "source": [
    "import pytesseract\n",
    "\n",
    "# Verify the Tesseract version\n",
    "print(pytesseract.get_tesseract_version())"
   ]
  },
  {
   "cell_type": "code",
   "execution_count": 32,
   "metadata": {},
   "outputs": [],
   "source": [
    "import pytesseract\n",
    "\n",
    "# Specify the full path to the Tesseract executable\n",
    "tesseract_executable = r'C:\\\\Program Files\\\\Tesseract-OCR\\\\tesseract.exe'\n",
    "\n",
    "# Set the Tesseract executable path\n",
    "pytesseract.pytesseract.tesseract_cmd = tesseract_executable\n",
    "\n",
    "# Now you can use pytesseract for OCR as usual"
   ]
  },
  {
   "cell_type": "code",
   "execution_count": 33,
   "metadata": {},
   "outputs": [],
   "source": [
    "# Path to the folder containing images\n",
    "folder_path = \"C:/Users/mhajj/Documents/RUTILEA/aisin/GearInspection-Dataset3/PredictionResults/Test\""
   ]
  },
  {
   "cell_type": "code",
   "execution_count": 34,
   "metadata": {},
   "outputs": [],
   "source": [
    "import os\n",
    "from PIL import Image\n",
    "import re"
   ]
  },
  {
   "cell_type": "code",
   "execution_count": 69,
   "metadata": {},
   "outputs": [],
   "source": [
    "# Function to count text occurrences in an image\n",
    "def count_text_occurrences(image_path):\n",
    "    # Open the image using PIL (Python Imaging Library)\n",
    "    image = Image.open(image_path)\n",
    "    \n",
    "    # Use Tesseract to extract text from the image\n",
    "    extracted_text = pytesseract.image_to_string(image)\n",
    "    \n",
    "    # Convert the extracted text to lowercase for case-insensitive matching\n",
    "    extracted_text_lower = extracted_text.lower()\n",
    "    \n",
    "    # Print the extracted text for debugging\n",
    "    print(f\"Extracted text from {image_path}: {extracted_text}\")\n",
    "    \n",
    "    # Count occurrences of \"Kizu\" and \"Dakon\" in the extracted text\n",
    "    kizu_count = extracted_text_lower.count('kizu')\n",
    "    dakon_count = extracted_text_lower.count('dakon')\n",
    "    \n",
    "    return kizu_count, dakon_count"
   ]
  },
  {
   "cell_type": "code",
   "execution_count": 71,
   "metadata": {},
   "outputs": [
    {
     "name": "stdout",
     "output_type": "stream",
     "text": [
      "Extracted text from C:/Users/mhajj/Documents/RUTILEA/aisin/GearInspection-Dataset3/PredictionResults/Test\\year=2023-month=04-day=01-04_24_17-OK-2_0.png.png: kizu 0.72\n",
      "\n",
      "\n",
      "Counts for C:/Users/mhajj/Documents/RUTILEA/aisin/GearInspection-Dataset3/PredictionResults/Test\\year=2023-month=04-day=01-04_24_17-OK-2_0.png.png: Kizu: 1, Dakon: 0\n",
      "Extracted text from C:/Users/mhajj/Documents/RUTILEA/aisin/GearInspection-Dataset3/PredictionResults/Test\\year=2023-month=04-day=03-11_19_27-OK-2_6.png.png: \n",
      "Counts for C:/Users/mhajj/Documents/RUTILEA/aisin/GearInspection-Dataset3/PredictionResults/Test\\year=2023-month=04-day=03-11_19_27-OK-2_6.png.png: Kizu: 0, Dakon: 0\n",
      "Extracted text from C:/Users/mhajj/Documents/RUTILEA/aisin/GearInspection-Dataset3/PredictionResults/Test\\year=2023-month=04-day=03-11_19_53-OK-2_5.png.png: \n",
      "Counts for C:/Users/mhajj/Documents/RUTILEA/aisin/GearInspection-Dataset3/PredictionResults/Test\\year=2023-month=04-day=03-11_19_53-OK-2_5.png.png: Kizu: 0, Dakon: 0\n",
      "Extracted text from C:/Users/mhajj/Documents/RUTILEA/aisin/GearInspection-Dataset3/PredictionResults/Test\\year=2023-month=04-day=03-23_39_23-OK-2_8.png.png: \n",
      "Counts for C:/Users/mhajj/Documents/RUTILEA/aisin/GearInspection-Dataset3/PredictionResults/Test\\year=2023-month=04-day=03-23_39_23-OK-2_8.png.png: Kizu: 0, Dakon: 0\n",
      "Extracted text from C:/Users/mhajj/Documents/RUTILEA/aisin/GearInspection-Dataset3/PredictionResults/Test\\year=2023-month=04-day=04-00_43_57-OK-2_1.png.png: \n",
      "Counts for C:/Users/mhajj/Documents/RUTILEA/aisin/GearInspection-Dataset3/PredictionResults/Test\\year=2023-month=04-day=04-00_43_57-OK-2_1.png.png: Kizu: 0, Dakon: 0\n",
      "Extracted text from C:/Users/mhajj/Documents/RUTILEA/aisin/GearInspection-Dataset3/PredictionResults/Test\\year=2023-month=04-day=04-04_19_55-OK-2_5.png.png: dakon 0.68,\n",
      "\n",
      "\n",
      "Counts for C:/Users/mhajj/Documents/RUTILEA/aisin/GearInspection-Dataset3/PredictionResults/Test\\year=2023-month=04-day=04-04_19_55-OK-2_5.png.png: Kizu: 0, Dakon: 1\n",
      "Images with 'Kizu' text: 1\n",
      "Images with 'Dakon' text: 1\n",
      "Images with other text: 4\n"
     ]
    }
   ],
   "source": [
    "# Initialize counters for different text categories\n",
    "total_kizu_count = 0\n",
    "total_dakon_count = 0\n",
    "total_other_text_count = 0\n",
    "\n",
    "# Loop through each image file in the folder\n",
    "for filename in os.listdir(folder_path):\n",
    "    if filename.endswith(\".jpg\") or filename.endswith(\".png\"):\n",
    "        # Construct the full path to the image file\n",
    "        image_path = os.path.join(folder_path, filename)\n",
    "        \n",
    "        # Count text occurrences in the image\n",
    "        kizu_count, dakon_count = count_text_occurrences(image_path)\n",
    "        \n",
    "        # Print counts for debugging\n",
    "        print(f\"Counts for {image_path}: Kizu: {kizu_count}, Dakon: {dakon_count}\")\n",
    "        \n",
    "        # Increment the respective counters\n",
    "        total_kizu_count += kizu_count\n",
    "        total_dakon_count += dakon_count\n",
    "\n",
    "# Calculate the count of other text\n",
    "total_other_text_count = len(os.listdir(folder_path)) - (total_kizu_count + total_dakon_count)\n",
    "\n",
    "# Print the counts for each category\n",
    "print(f\"Images with 'Kizu' text: {total_kizu_count}\")\n",
    "print(f\"Images with 'Dakon' text: {total_dakon_count}\")\n",
    "print(f\"Images with other text: {total_other_text_count}\")"
   ]
  }
 ],
 "metadata": {
  "kernelspec": {
   "display_name": "venv",
   "language": "python",
   "name": "python3"
  },
  "language_info": {
   "codemirror_mode": {
    "name": "ipython",
    "version": 3
   },
   "file_extension": ".py",
   "mimetype": "text/x-python",
   "name": "python",
   "nbconvert_exporter": "python",
   "pygments_lexer": "ipython3",
   "version": "3.10.11"
  },
  "orig_nbformat": 4
 },
 "nbformat": 4,
 "nbformat_minor": 2
}
