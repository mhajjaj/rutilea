{
 "cells": [
  {
   "cell_type": "code",
   "execution_count": 3,
   "metadata": {},
   "outputs": [
    {
     "name": "stdout",
     "output_type": "stream",
     "text": [
      "Confusion Matrix:\n",
      "tensor([[1., 1., 0.],\n",
      "        [1., 1., 0.],\n",
      "        [0., 0., 2.]])\n"
     ]
    }
   ],
   "source": [
    "import torch\n",
    "\n",
    "# Simulated predictions and targets (replace with actual data)\n",
    "predictions = torch.tensor([0, 1, 2, 0, 2, 1])\n",
    "targets = torch.tensor([0, 1, 2, 1, 2, 0])\n",
    "\n",
    "# Calculate the multiclass confusion matrix\n",
    "confusion_matrix = torch.zeros(3, 3)\n",
    "\n",
    "for t, p in zip(targets, predictions):\n",
    "    confusion_matrix[t, p] += 1\n",
    "\n",
    "# Print the confusion matrix\n",
    "print(\"Confusion Matrix:\")\n",
    "print(confusion_matrix)"
   ]
  }
 ],
 "metadata": {
  "kernelspec": {
   "display_name": "rutilea",
   "language": "python",
   "name": "python3"
  },
  "language_info": {
   "codemirror_mode": {
    "name": "ipython",
    "version": 3
   },
   "file_extension": ".py",
   "mimetype": "text/x-python",
   "name": "python",
   "nbconvert_exporter": "python",
   "pygments_lexer": "ipython3",
   "version": "3.10.11"
  },
  "orig_nbformat": 4
 },
 "nbformat": 4,
 "nbformat_minor": 2
}
