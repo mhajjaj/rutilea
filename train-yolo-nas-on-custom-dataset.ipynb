{
 "cells": [
  {
   "cell_type": "code",
   "execution_count": 1,
   "metadata": {},
   "outputs": [],
   "source": [
    "import torch\n",
    "\n",
    "DEVICE = 'cuda' if torch.cuda.is_available() else \"cpu\"\n",
    "MODEL_ARCH = 'yolo_nas_l'"
   ]
  },
  {
   "cell_type": "code",
   "execution_count": 2,
   "metadata": {},
   "outputs": [],
   "source": [
    "from super_gradients.training import models\n",
    "\n",
    "model = models.get(MODEL_ARCH, pretrained_weights=\"coco\").to(DEVICE)"
   ]
  },
  {
   "cell_type": "code",
   "execution_count": 3,
   "metadata": {},
   "outputs": [],
   "source": [
    "import os\n",
    "HOME = os.getcwd()\n",
    "print(HOME)"
   ]
  },
  {
   "cell_type": "code",
   "execution_count": 4,
   "metadata": {},
   "outputs": [
    {
     "data": {
      "text/plain": [
       "'c:\\\\Users\\\\mhajj\\\\Documents\\\\RUTILEA\\\\mhajjaj/data'"
      ]
     },
     "execution_count": 4,
     "metadata": {},
     "output_type": "execute_result"
    }
   ],
   "source": [
    "f\"{HOME}/data\""
   ]
  },
  {
   "cell_type": "code",
   "execution_count": 5,
   "metadata": {},
   "outputs": [],
   "source": [
    "SOURCE_IMAGE_PATH = f\"{HOME}/data/dog-3.jpeg\""
   ]
  },
  {
   "cell_type": "code",
   "execution_count": 6,
   "metadata": {},
   "outputs": [],
   "source": [
    "import cv2\n",
    "\n",
    "image = cv2.imread(SOURCE_IMAGE_PATH)\n",
    "result = list(model.predict(image, conf=0.35))[0]"
   ]
  },
  {
   "cell_type": "code",
   "execution_count": 7,
   "metadata": {},
   "outputs": [
    {
     "data": {
      "text/plain": [
       "super_gradients.training.utils.predict.prediction_results.ImageDetectionPrediction"
      ]
     },
     "execution_count": 7,
     "metadata": {},
     "output_type": "execute_result"
    }
   ],
   "source": [
    "type(result)"
   ]
  },
  {
   "cell_type": "code",
   "execution_count": 9,
   "metadata": {},
   "outputs": [
    {
     "ename": "ValueError",
     "evalue": "not enough values to unpack (expected 5, got 4)",
     "output_type": "error",
     "traceback": [
      "\u001b[1;31m---------------------------------------------------------------------------\u001b[0m",
      "\u001b[1;31mValueError\u001b[0m                                Traceback (most recent call last)",
      "\u001b[1;32mc:\\Users\\mhajj\\Documents\\RUTILEA\\mhajjaj\\train-yolo-nas-on-custom-dataset.ipynb Cell 8\u001b[0m line \u001b[0;36m1\n\u001b[0;32m      <a href='vscode-notebook-cell:/c%3A/Users/mhajj/Documents/RUTILEA/mhajjaj/train-yolo-nas-on-custom-dataset.ipynb#X10sZmlsZQ%3D%3D?line=2'>3</a>\u001b[0m detections \u001b[39m=\u001b[39m sv\u001b[39m.\u001b[39mDetections(\n\u001b[0;32m      <a href='vscode-notebook-cell:/c%3A/Users/mhajj/Documents/RUTILEA/mhajjaj/train-yolo-nas-on-custom-dataset.ipynb#X10sZmlsZQ%3D%3D?line=3'>4</a>\u001b[0m     xyxy\u001b[39m=\u001b[39mresult\u001b[39m.\u001b[39mprediction\u001b[39m.\u001b[39mbboxes_xyxy,\n\u001b[0;32m      <a href='vscode-notebook-cell:/c%3A/Users/mhajj/Documents/RUTILEA/mhajjaj/train-yolo-nas-on-custom-dataset.ipynb#X10sZmlsZQ%3D%3D?line=4'>5</a>\u001b[0m     confidence\u001b[39m=\u001b[39mresult\u001b[39m.\u001b[39mprediction\u001b[39m.\u001b[39mconfidence,\n\u001b[0;32m      <a href='vscode-notebook-cell:/c%3A/Users/mhajj/Documents/RUTILEA/mhajjaj/train-yolo-nas-on-custom-dataset.ipynb#X10sZmlsZQ%3D%3D?line=5'>6</a>\u001b[0m     class_id\u001b[39m=\u001b[39mresult\u001b[39m.\u001b[39mprediction\u001b[39m.\u001b[39mlabels\u001b[39m.\u001b[39mastype(\u001b[39mint\u001b[39m)\n\u001b[0;32m      <a href='vscode-notebook-cell:/c%3A/Users/mhajj/Documents/RUTILEA/mhajjaj/train-yolo-nas-on-custom-dataset.ipynb#X10sZmlsZQ%3D%3D?line=6'>7</a>\u001b[0m )\n\u001b[0;32m      <a href='vscode-notebook-cell:/c%3A/Users/mhajj/Documents/RUTILEA/mhajjaj/train-yolo-nas-on-custom-dataset.ipynb#X10sZmlsZQ%3D%3D?line=8'>9</a>\u001b[0m box_annotator \u001b[39m=\u001b[39m sv\u001b[39m.\u001b[39mBoxAnnotator()\n\u001b[1;32m---> <a href='vscode-notebook-cell:/c%3A/Users/mhajj/Documents/RUTILEA/mhajjaj/train-yolo-nas-on-custom-dataset.ipynb#X10sZmlsZQ%3D%3D?line=10'>11</a>\u001b[0m labels \u001b[39m=\u001b[39m [\n\u001b[0;32m     <a href='vscode-notebook-cell:/c%3A/Users/mhajj/Documents/RUTILEA/mhajjaj/train-yolo-nas-on-custom-dataset.ipynb#X10sZmlsZQ%3D%3D?line=11'>12</a>\u001b[0m     \u001b[39mf\u001b[39m\u001b[39m\"\u001b[39m\u001b[39m{\u001b[39;00mresult\u001b[39m.\u001b[39mclass_names[class_id]\u001b[39m}\u001b[39;00m\u001b[39m \u001b[39m\u001b[39m{\u001b[39;00mconfidence\u001b[39m:\u001b[39;00m\u001b[39m0.2f\u001b[39m\u001b[39m}\u001b[39;00m\u001b[39m\"\u001b[39m\n\u001b[0;32m     <a href='vscode-notebook-cell:/c%3A/Users/mhajj/Documents/RUTILEA/mhajjaj/train-yolo-nas-on-custom-dataset.ipynb#X10sZmlsZQ%3D%3D?line=12'>13</a>\u001b[0m     \u001b[39mfor\u001b[39;00m _, _, confidence, class_id, _\n\u001b[0;32m     <a href='vscode-notebook-cell:/c%3A/Users/mhajj/Documents/RUTILEA/mhajjaj/train-yolo-nas-on-custom-dataset.ipynb#X10sZmlsZQ%3D%3D?line=13'>14</a>\u001b[0m     \u001b[39min\u001b[39;00m detections\n\u001b[0;32m     <a href='vscode-notebook-cell:/c%3A/Users/mhajj/Documents/RUTILEA/mhajjaj/train-yolo-nas-on-custom-dataset.ipynb#X10sZmlsZQ%3D%3D?line=14'>15</a>\u001b[0m ]\n\u001b[0;32m     <a href='vscode-notebook-cell:/c%3A/Users/mhajj/Documents/RUTILEA/mhajjaj/train-yolo-nas-on-custom-dataset.ipynb#X10sZmlsZQ%3D%3D?line=16'>17</a>\u001b[0m annotated_frame \u001b[39m=\u001b[39m box_annotator\u001b[39m.\u001b[39mannotate(\n\u001b[0;32m     <a href='vscode-notebook-cell:/c%3A/Users/mhajj/Documents/RUTILEA/mhajjaj/train-yolo-nas-on-custom-dataset.ipynb#X10sZmlsZQ%3D%3D?line=17'>18</a>\u001b[0m     scene\u001b[39m=\u001b[39mimage\u001b[39m.\u001b[39mcopy(),\n\u001b[0;32m     <a href='vscode-notebook-cell:/c%3A/Users/mhajj/Documents/RUTILEA/mhajjaj/train-yolo-nas-on-custom-dataset.ipynb#X10sZmlsZQ%3D%3D?line=18'>19</a>\u001b[0m     detections\u001b[39m=\u001b[39mdetections,\n\u001b[0;32m     <a href='vscode-notebook-cell:/c%3A/Users/mhajj/Documents/RUTILEA/mhajjaj/train-yolo-nas-on-custom-dataset.ipynb#X10sZmlsZQ%3D%3D?line=19'>20</a>\u001b[0m     labels\u001b[39m=\u001b[39mlabels\n\u001b[0;32m     <a href='vscode-notebook-cell:/c%3A/Users/mhajj/Documents/RUTILEA/mhajjaj/train-yolo-nas-on-custom-dataset.ipynb#X10sZmlsZQ%3D%3D?line=20'>21</a>\u001b[0m )\n\u001b[0;32m     <a href='vscode-notebook-cell:/c%3A/Users/mhajj/Documents/RUTILEA/mhajjaj/train-yolo-nas-on-custom-dataset.ipynb#X10sZmlsZQ%3D%3D?line=22'>23</a>\u001b[0m sv\u001b[39m.\u001b[39mplot_image(annotated_frame, (\u001b[39m12\u001b[39m, \u001b[39m12\u001b[39m))\n",
      "\u001b[1;32mc:\\Users\\mhajj\\Documents\\RUTILEA\\mhajjaj\\train-yolo-nas-on-custom-dataset.ipynb Cell 8\u001b[0m line \u001b[0;36m1\n\u001b[0;32m      <a href='vscode-notebook-cell:/c%3A/Users/mhajj/Documents/RUTILEA/mhajjaj/train-yolo-nas-on-custom-dataset.ipynb#X10sZmlsZQ%3D%3D?line=2'>3</a>\u001b[0m detections \u001b[39m=\u001b[39m sv\u001b[39m.\u001b[39mDetections(\n\u001b[0;32m      <a href='vscode-notebook-cell:/c%3A/Users/mhajj/Documents/RUTILEA/mhajjaj/train-yolo-nas-on-custom-dataset.ipynb#X10sZmlsZQ%3D%3D?line=3'>4</a>\u001b[0m     xyxy\u001b[39m=\u001b[39mresult\u001b[39m.\u001b[39mprediction\u001b[39m.\u001b[39mbboxes_xyxy,\n\u001b[0;32m      <a href='vscode-notebook-cell:/c%3A/Users/mhajj/Documents/RUTILEA/mhajjaj/train-yolo-nas-on-custom-dataset.ipynb#X10sZmlsZQ%3D%3D?line=4'>5</a>\u001b[0m     confidence\u001b[39m=\u001b[39mresult\u001b[39m.\u001b[39mprediction\u001b[39m.\u001b[39mconfidence,\n\u001b[0;32m      <a href='vscode-notebook-cell:/c%3A/Users/mhajj/Documents/RUTILEA/mhajjaj/train-yolo-nas-on-custom-dataset.ipynb#X10sZmlsZQ%3D%3D?line=5'>6</a>\u001b[0m     class_id\u001b[39m=\u001b[39mresult\u001b[39m.\u001b[39mprediction\u001b[39m.\u001b[39mlabels\u001b[39m.\u001b[39mastype(\u001b[39mint\u001b[39m)\n\u001b[0;32m      <a href='vscode-notebook-cell:/c%3A/Users/mhajj/Documents/RUTILEA/mhajjaj/train-yolo-nas-on-custom-dataset.ipynb#X10sZmlsZQ%3D%3D?line=6'>7</a>\u001b[0m )\n\u001b[0;32m      <a href='vscode-notebook-cell:/c%3A/Users/mhajj/Documents/RUTILEA/mhajjaj/train-yolo-nas-on-custom-dataset.ipynb#X10sZmlsZQ%3D%3D?line=8'>9</a>\u001b[0m box_annotator \u001b[39m=\u001b[39m sv\u001b[39m.\u001b[39mBoxAnnotator()\n\u001b[1;32m---> <a href='vscode-notebook-cell:/c%3A/Users/mhajj/Documents/RUTILEA/mhajjaj/train-yolo-nas-on-custom-dataset.ipynb#X10sZmlsZQ%3D%3D?line=10'>11</a>\u001b[0m labels \u001b[39m=\u001b[39m [\n\u001b[0;32m     <a href='vscode-notebook-cell:/c%3A/Users/mhajj/Documents/RUTILEA/mhajjaj/train-yolo-nas-on-custom-dataset.ipynb#X10sZmlsZQ%3D%3D?line=11'>12</a>\u001b[0m     \u001b[39mf\u001b[39m\u001b[39m\"\u001b[39m\u001b[39m{\u001b[39;00mresult\u001b[39m.\u001b[39mclass_names[class_id]\u001b[39m}\u001b[39;00m\u001b[39m \u001b[39m\u001b[39m{\u001b[39;00mconfidence\u001b[39m:\u001b[39;00m\u001b[39m0.2f\u001b[39m\u001b[39m}\u001b[39;00m\u001b[39m\"\u001b[39m\n\u001b[0;32m     <a href='vscode-notebook-cell:/c%3A/Users/mhajj/Documents/RUTILEA/mhajjaj/train-yolo-nas-on-custom-dataset.ipynb#X10sZmlsZQ%3D%3D?line=12'>13</a>\u001b[0m     \u001b[39mfor\u001b[39;00m _, _, confidence, class_id, _\n\u001b[0;32m     <a href='vscode-notebook-cell:/c%3A/Users/mhajj/Documents/RUTILEA/mhajjaj/train-yolo-nas-on-custom-dataset.ipynb#X10sZmlsZQ%3D%3D?line=13'>14</a>\u001b[0m     \u001b[39min\u001b[39;00m detections\n\u001b[0;32m     <a href='vscode-notebook-cell:/c%3A/Users/mhajj/Documents/RUTILEA/mhajjaj/train-yolo-nas-on-custom-dataset.ipynb#X10sZmlsZQ%3D%3D?line=14'>15</a>\u001b[0m ]\n\u001b[0;32m     <a href='vscode-notebook-cell:/c%3A/Users/mhajj/Documents/RUTILEA/mhajjaj/train-yolo-nas-on-custom-dataset.ipynb#X10sZmlsZQ%3D%3D?line=16'>17</a>\u001b[0m annotated_frame \u001b[39m=\u001b[39m box_annotator\u001b[39m.\u001b[39mannotate(\n\u001b[0;32m     <a href='vscode-notebook-cell:/c%3A/Users/mhajj/Documents/RUTILEA/mhajjaj/train-yolo-nas-on-custom-dataset.ipynb#X10sZmlsZQ%3D%3D?line=17'>18</a>\u001b[0m     scene\u001b[39m=\u001b[39mimage\u001b[39m.\u001b[39mcopy(),\n\u001b[0;32m     <a href='vscode-notebook-cell:/c%3A/Users/mhajj/Documents/RUTILEA/mhajjaj/train-yolo-nas-on-custom-dataset.ipynb#X10sZmlsZQ%3D%3D?line=18'>19</a>\u001b[0m     detections\u001b[39m=\u001b[39mdetections,\n\u001b[0;32m     <a href='vscode-notebook-cell:/c%3A/Users/mhajj/Documents/RUTILEA/mhajjaj/train-yolo-nas-on-custom-dataset.ipynb#X10sZmlsZQ%3D%3D?line=19'>20</a>\u001b[0m     labels\u001b[39m=\u001b[39mlabels\n\u001b[0;32m     <a href='vscode-notebook-cell:/c%3A/Users/mhajj/Documents/RUTILEA/mhajjaj/train-yolo-nas-on-custom-dataset.ipynb#X10sZmlsZQ%3D%3D?line=20'>21</a>\u001b[0m )\n\u001b[0;32m     <a href='vscode-notebook-cell:/c%3A/Users/mhajj/Documents/RUTILEA/mhajjaj/train-yolo-nas-on-custom-dataset.ipynb#X10sZmlsZQ%3D%3D?line=22'>23</a>\u001b[0m sv\u001b[39m.\u001b[39mplot_image(annotated_frame, (\u001b[39m12\u001b[39m, \u001b[39m12\u001b[39m))\n",
      "\u001b[1;31mValueError\u001b[0m: not enough values to unpack (expected 5, got 4)"
     ]
    }
   ],
   "source": [
    "import supervision as sv\n",
    "\n",
    "detections = sv.Detections(\n",
    "    xyxy=result.prediction.bboxes_xyxy,\n",
    "    confidence=result.prediction.confidence,\n",
    "    class_id=result.prediction.labels.astype(int)\n",
    ")\n",
    "\n",
    "box_annotator = sv.BoxAnnotator()\n",
    "\n",
    "labels = [\n",
    "    f\"{result.class_names[class_id]} {confidence:0.2f}\"\n",
    "    for _, _, confidence, class_id, _\n",
    "    in detections\n",
    "]\n",
    "\n",
    "annotated_frame = box_annotator.annotate(\n",
    "    scene=image.copy(),\n",
    "    detections=detections,\n",
    "    labels=labels\n",
    ")\n",
    "\n",
    "sv.plot_image(annotated_frame, (12, 12))"
   ]
  }
 ],
 "metadata": {
  "kernelspec": {
   "display_name": "rutilea_env",
   "language": "python",
   "name": "python3"
  },
  "language_info": {
   "codemirror_mode": {
    "name": "ipython",
    "version": 3
   },
   "file_extension": ".py",
   "mimetype": "text/x-python",
   "name": "python",
   "nbconvert_exporter": "python",
   "pygments_lexer": "ipython3",
   "version": "3.10.11"
  },
  "orig_nbformat": 4
 },
 "nbformat": 4,
 "nbformat_minor": 2
}
